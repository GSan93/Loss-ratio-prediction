{
  "nbformat": 4,
  "nbformat_minor": 0,
  "metadata": {
    "colab": {
      "name": "Big_Data_Proj_TestData.ipynb",
      "provenance": []
    },
    "kernelspec": {
      "display_name": "Python 3",
      "language": "python",
      "name": "python3"
    },
    "language_info": {
      "codemirror_mode": {
        "name": "ipython",
        "version": 3
      },
      "file_extension": ".py",
      "mimetype": "text/x-python",
      "name": "python",
      "nbconvert_exporter": "python",
      "pygments_lexer": "ipython3",
      "version": "3.6.0"
    }
  },
  "cells": [
    {
      "cell_type": "code",
      "metadata": {
        "colab_type": "code",
        "id": "ydl00YIB_5n4",
        "colab": {}
      },
      "source": [
        "import random\n",
        "import pandas as pd\n",
        "import numpy as np\n",
        "import sklearn\n",
        "import math\n",
        "from sklearn import preprocessing\n",
        "from sklearn.metrics import mean_squared_error\n",
        "from sklearn.ensemble import RandomForestRegressor\n",
        "from sklearn.preprocessing import LabelEncoder\n",
        "from sklearn.model_selection import train_test_split\n",
        "from sklearn.metrics import mean_absolute_error\n",
        "from sklearn.utils import shuffle\n",
        "from sklearn.preprocessing import StandardScaler\n",
        "from sklearn.decomposition import PCA\n",
        "import matplotlib.pyplot as plt\n",
        "from sklearn.linear_model import Ridge, RidgeCV, LassoCV"
      ],
      "execution_count": 0,
      "outputs": []
    },
    {
      "cell_type": "code",
      "metadata": {
        "colab_type": "code",
        "id": "odz1CLIZ36VE",
        "outputId": "b63e0518-234b-4a90-b792-15e09e7efd89",
        "colab": {
          "base_uri": "https://localhost:8080/",
          "height": 72
        }
      },
      "source": [
        "test_data = pd.read_csv('test_data_full.csv')"
      ],
      "execution_count": 0,
      "outputs": [
        {
          "output_type": "stream",
          "text": [
            "/usr/local/lib/python3.6/dist-packages/IPython/core/interactiveshell.py:2718: DtypeWarning: Columns (8,56) have mixed types. Specify dtype option on import or set low_memory=False.\n",
            "  interactivity=interactivity, compiler=compiler, result=result)\n"
          ],
          "name": "stderr"
        }
      ]
    },
    {
      "cell_type": "code",
      "metadata": {
        "colab_type": "code",
        "id": "y1MlRbC04DTk",
        "outputId": "9e302753-5e89-4c08-8a91-d43c4d330b56",
        "colab": {
          "base_uri": "https://localhost:8080/",
          "height": 35
        }
      },
      "source": [
        "test_data.shape"
      ],
      "execution_count": 0,
      "outputs": [
        {
          "output_type": "execute_result",
          "data": {
            "text/plain": [
              "(985168, 66)"
            ]
          },
          "metadata": {
            "tags": []
          },
          "execution_count": 25
        }
      ]
    },
    {
      "cell_type": "markdown",
      "metadata": {
        "colab_type": "text",
        "id": "pdvqiyUxrsut"
      },
      "source": [
        "Replace the 'Unknown' to NA so as to make it recognizable as a missing value."
      ]
    },
    {
      "cell_type": "code",
      "metadata": {
        "colab_type": "code",
        "id": "-pWWvAjgAAYc",
        "colab": {}
      },
      "source": [
        "missing=\"Unknown\"\n",
        "testing_data=pd.read_csv('test_data_full.csv',na_values = missing)"
      ],
      "execution_count": 0,
      "outputs": []
    },
    {
      "cell_type": "code",
      "metadata": {
        "colab_type": "code",
        "id": "SKZ1g6_F9sNG",
        "colab": {}
      },
      "source": [
        "# testing_data.shape"
      ],
      "execution_count": 0,
      "outputs": []
    },
    {
      "cell_type": "markdown",
      "metadata": {
        "colab_type": "text",
        "id": "GGg7Fbz6rVLT"
      },
      "source": [
        "Drop the variables that are not required from the start"
      ]
    },
    {
      "cell_type": "code",
      "metadata": {
        "colab_type": "code",
        "id": "5I6iIb6mDcUu",
        "colab": {}
      },
      "source": [
        "testing_data_copy=testing_data.drop(['PolicyNo','Policy_Zip_Code_Garaging_Location','EEA_PolicyYear','Vehicle_Make_Description'], axis=1)"
      ],
      "execution_count": 0,
      "outputs": []
    },
    {
      "cell_type": "markdown",
      "metadata": {
        "colab_type": "text",
        "id": "XIw5Y896rc3T"
      },
      "source": [
        "Add two new variables to separate out zip code's first 2 and first digit."
      ]
    },
    {
      "cell_type": "code",
      "metadata": {
        "colab_type": "code",
        "id": "8lQ71XrpDUAm",
        "outputId": "5ee76c90-e7e3-4ca5-c1ab-3d312b3a58c2",
        "colab": {
          "base_uri": "https://localhost:8080/",
          "height": 213
        }
      },
      "source": [
        "testing_data_copy['EEA_Policy_Zip_Code_first']=testing_data_copy.apply(lambda _: '', axis=1)\n",
        "testing_data_copy['EEA_Policy_Zip_Code_first_two']=testing_data_copy.apply(lambda _: '', axis=1)\n",
        "\n",
        "i=0\n",
        "for record in testing_data_copy['EEA_Policy_Zip_Code_3']:\n",
        "  if not math.isnan(record):\n",
        "    testing_data_copy['EEA_Policy_Zip_Code_first'][i] = int(record/100)\n",
        "  else:\n",
        "    testing_data_copy['EEA_Policy_Zip_Code_first'][i] = np.NaN\n",
        "  i+=1"
      ],
      "execution_count": 0,
      "outputs": [
        {
          "output_type": "stream",
          "text": [
            "/usr/local/lib/python3.6/dist-packages/ipykernel_launcher.py:7: SettingWithCopyWarning: \n",
            "A value is trying to be set on a copy of a slice from a DataFrame\n",
            "\n",
            "See the caveats in the documentation: http://pandas.pydata.org/pandas-docs/stable/user_guide/indexing.html#returning-a-view-versus-a-copy\n",
            "  import sys\n",
            "/usr/local/lib/python3.6/dist-packages/ipykernel_launcher.py:9: SettingWithCopyWarning: \n",
            "A value is trying to be set on a copy of a slice from a DataFrame\n",
            "\n",
            "See the caveats in the documentation: http://pandas.pydata.org/pandas-docs/stable/user_guide/indexing.html#returning-a-view-versus-a-copy\n",
            "  if __name__ == '__main__':\n"
          ],
          "name": "stderr"
        }
      ]
    },
    {
      "cell_type": "code",
      "metadata": {
        "colab_type": "code",
        "id": "1GN70wtRGGH7",
        "outputId": "ee61bada-b6fa-4ed3-97dd-76c01ad5ddeb",
        "colab": {
          "base_uri": "https://localhost:8080/",
          "height": 213
        }
      },
      "source": [
        "i=0\n",
        "for record in testing_data_copy['EEA_Policy_Zip_Code_3']:\n",
        "  if not math.isnan(record):\n",
        "    testing_data_copy['EEA_Policy_Zip_Code_first_two'][i] = int(record/10)\n",
        "  else:\n",
        "    testing_data_copy['EEA_Policy_Zip_Code_first_two'][i] = np.NaN\n",
        "  i+=1"
      ],
      "execution_count": 0,
      "outputs": [
        {
          "output_type": "stream",
          "text": [
            "/usr/local/lib/python3.6/dist-packages/ipykernel_launcher.py:4: SettingWithCopyWarning: \n",
            "A value is trying to be set on a copy of a slice from a DataFrame\n",
            "\n",
            "See the caveats in the documentation: http://pandas.pydata.org/pandas-docs/stable/user_guide/indexing.html#returning-a-view-versus-a-copy\n",
            "  after removing the cwd from sys.path.\n",
            "/usr/local/lib/python3.6/dist-packages/ipykernel_launcher.py:6: SettingWithCopyWarning: \n",
            "A value is trying to be set on a copy of a slice from a DataFrame\n",
            "\n",
            "See the caveats in the documentation: http://pandas.pydata.org/pandas-docs/stable/user_guide/indexing.html#returning-a-view-versus-a-copy\n",
            "  \n"
          ],
          "name": "stderr"
        }
      ]
    },
    {
      "cell_type": "code",
      "metadata": {
        "colab_type": "code",
        "id": "AF9y3XhFfcJA",
        "outputId": "4523ded4-427a-4cbf-9485-1eaafb2a668d",
        "colab": {
          "base_uri": "https://localhost:8080/",
          "height": 35
        }
      },
      "source": [
        "testing_data_copy.shape"
      ],
      "execution_count": 0,
      "outputs": [
        {
          "output_type": "execute_result",
          "data": {
            "text/plain": [
              "(985168, 64)"
            ]
          },
          "metadata": {
            "tags": []
          },
          "execution_count": 31
        }
      ]
    },
    {
      "cell_type": "markdown",
      "metadata": {
        "colab_type": "text",
        "id": "0FbGO76wsFKR"
      },
      "source": [
        "Reorder the data in the 'testing_data_copy' after adding the new zip code variables."
      ]
    },
    {
      "cell_type": "code",
      "metadata": {
        "colab_type": "code",
        "id": "g6TNqS9RrIbw",
        "colab": {}
      },
      "source": [
        "# testing_data_copy=testing_data_copy[['Portfolio','Policy_Company',\n",
        "#  'Policy_Installment_Term',\n",
        "#  'Policy_Billing_Code',\n",
        "#  'Policy_Method_Of_Payment',\n",
        "#  'Policy_Reinstatement_Fee_Indicator',\n",
        "#  'Vehicle_Territory',\n",
        "#  'Vehicle_Make_Year',\n",
        "#  'Vehicle_Performance',\n",
        "#  'Vehicle_New_Cost_Amount',\n",
        "#  'Vehicle_Symbol',\n",
        "#  'Vehicle_Number_Of_Drivers_Assigned',\n",
        "#  'Vehicle_Usage',\n",
        "#  'Vehicle_Miles_To_Work',\n",
        "#  'Vehicle_Days_Per_Week_Driven',\n",
        "#  'Vehicle_Annual_Miles',\n",
        "#  'Vehicle_Anti_Theft_Device',\n",
        "#  'Vehicle_Passive_Restraint',\n",
        "#  'Vehicle_Age_In_Years',\n",
        "#  'Vehicle_Med_Pay_Limit',\n",
        "#  'Vehicle_Bodily_Injury_Limit',\n",
        "#  'Vehicle_Physical_Damage_Limit',\n",
        "#  'Vehicle_Comprehensive_Coverage_Indicator',\n",
        "#  'Vehicle_Comprehensive_Coverage_Limit',\n",
        "#  'Vehicle_Collision_Coverage_Indicator',\n",
        "#  'Vehicle_Collision_Coverage_Deductible',\n",
        "#  'Driver_Total',\n",
        "#  'Driver_Total_Male',\n",
        "#  'Driver_Total_Female',\n",
        "#  'Driver_Total_Single',\n",
        "#  'Driver_Total_Married',\n",
        "#  'Driver_Total_Related_To_Insured_Self',\n",
        "#  'Driver_Total_Related_To_Insured_Spouse',\n",
        "#  'Driver_Total_Related_To_Insured_Child',\n",
        "#  'Driver_Total_Licensed_In_State',\n",
        "#  'Driver_Minimum_Age',\n",
        "#  'Driver_Maximum_Age',\n",
        "#  'Driver_Total_Teenager_Age_15_19',\n",
        "#  'Driver_Total_College_Ages_20_23',\n",
        "#  'Driver_Total_Young_Adult_Ages_24_29',\n",
        "#  'Driver_Total_Low_Middle_Adult_Ages_30_39',\n",
        "#  'Driver_Total_Middle_Adult_Ages_40_49',\n",
        "#  'Driver_Total_Adult_Ages_50_64',\n",
        "#  'Driver_Total_Senior_Ages_65_69',\n",
        "#  'Driver_Total_Upper_Senior_Ages_70_plus',\n",
        "#  'Vehicle_Youthful_Driver_Indicator',\n",
        "#  'Vehicle_Youthful_Driver_Training_Code',\n",
        "#  'Vehicle_Youthful_Good_Student_Code',\n",
        "#  'Vehicle_Driver_Points',\n",
        "#  'Vehicle_Safe_Driver_Discount_Indicator',\n",
        "#  'EEA_Liability_Coverage_Only_Indicator',\n",
        "#  'EEA_Multi_Auto_Policies_Indicator',\n",
        "#  'EEA_Policy_Zip_Code_3',\n",
        "#  'EEA_Policy_Zip_Code_first_two',\n",
        "#  'EEA_Policy_Zip_Code_first',\n",
        "#  'EEA_Policy_Tenure',\n",
        "#  'EEA_Agency_Type',\n",
        "#  'EEA_Packaged_Policy_Indicator',\n",
        "#  'EEA_Full_Coverage_Indicator',\n",
        "#  'EEA_Prior_Bodily_Injury_Limit',\n",
        "#  'SYS_Renewed',\n",
        "#  'SYS_New_Business',\n",
        "#  'Annual_Premium']]\n"
      ],
      "execution_count": 0,
      "outputs": []
    },
    {
      "cell_type": "markdown",
      "metadata": {
        "colab_type": "text",
        "id": "L3jA1Yo7sRTM"
      },
      "source": [
        "Encode the data using get_dummies()"
      ]
    },
    {
      "cell_type": "code",
      "metadata": {
        "colab_type": "code",
        "id": "ea7D-s_eECfM",
        "colab": {}
      },
      "source": [
        "#  encod_test = pd.get_dummies(testing_data_copy,dummy_na=False, columns=['Policy_Company',\n",
        "#  'Policy_Installment_Term',\n",
        "#  'Policy_Billing_Code',\n",
        "#  'Policy_Method_Of_Payment',\n",
        "#  'Policy_Reinstatement_Fee_Indicator',\n",
        "#  'Vehicle_Territory',\n",
        "#  'Vehicle_Performance',\n",
        "#  'Vehicle_Symbol',\n",
        "#  'Vehicle_Usage',\n",
        "#  'Vehicle_Days_Per_Week_Driven',\n",
        "#  'Vehicle_Anti_Theft_Device',\n",
        "#  'Vehicle_Passive_Restraint',\n",
        "#  'Vehicle_Age_In_Years',\n",
        "#  'Vehicle_Med_Pay_Limit',\n",
        "#  'Vehicle_Bodily_Injury_Limit',\n",
        "#  'Vehicle_Physical_Damage_Limit',\n",
        "#  'Vehicle_Comprehensive_Coverage_Indicator',\n",
        "#  'Vehicle_Collision_Coverage_Indicator',\n",
        "#  'Vehicle_Collision_Coverage_Deductible',\n",
        "#  'Vehicle_Youthful_Driver_Indicator', \n",
        "#  'Vehicle_Youthful_Driver_Training_Code',\n",
        "#  'Vehicle_Youthful_Good_Student_Code',\n",
        "#  'Vehicle_Driver_Points',\n",
        "#  'Vehicle_Safe_Driver_Discount_Indicator',\n",
        "#  'EEA_Liability_Coverage_Only_Indicator',\n",
        "#  'EEA_Multi_Auto_Policies_Indicator',\n",
        "#  'EEA_Policy_Zip_Code_3',\n",
        "#  'EEA_Policy_Zip_Code_first',\n",
        "#  'EEA_Policy_Zip_Code_first_two',\n",
        "#  'EEA_Agency_Type',\n",
        "#  'EEA_Packaged_Policy_Indicator',\n",
        "#  'EEA_Full_Coverage_Indicator',\n",
        "#  'EEA_Prior_Bodily_Injury_Limit',\n",
        "#  'SYS_Renewed',\n",
        "#  'SYS_New_Business',\n",
        "#  ])\n",
        "\n",
        "\n",
        "#*********************** \n",
        "# encod_test = encod_test.drop(['Vehicle_Make_Description 1_4','Vehicle_Make_Description 1_ALFA','Vehicle_Make_Description 1_AM','Vehicle_Make_Description 1_AMBA','Vehicle_Make_Description 1_AMC','Vehicle_Make_Description 1_AMEA','Vehicle_Make_Description 1_AMER','Vehicle_Make_Description 1_AMERICAN','Vehicle_Make_Description 1_AMGR','Vehicle_Make_Description 1_ARO','Vehicle_Make_Description 1_AUSTIN','Vehicle_Make_Description 1_AVALANCHE','Vehicle_Make_Description 1_AVANTI','Vehicle_Make_Description 1_AVTI','Vehicle_Make_Description 1_BAM','Vehicle_Make_Description 1_BENTLEY','Vehicle_Make_Description 1_BERT','Vehicle_Make_Description 1_BRONCO','Vehicle_Make_Description 1_C','Vehicle_Make_Description 1_C-10','Vehicle_Make_Description 1_C10','Vehicle_Make_Description 1_C20','Vehicle_Make_Description 1_CAMARO','Vehicle_Make_Description 1_CAMRY','Vehicle_Make_Description 1_CELICA','Vehicle_Make_Description 1_CHECKER','Vehicle_Make_Description 1_CJ7','Vehicle_Make_Description 1_CMC','Vehicle_Make_Description 1_COACH','Vehicle_Make_Description 1_COMET','Vehicle_Make_Description 1_CORVAIR','Vehicle_Make_Description 1_CORVETTE','Vehicle_Make_Description 1_CUSH','Vehicle_Make_Description 1_CUTLASS','Vehicle_Make_Description 1_CW7','Vehicle_Make_Description 1_D-300','Vehicle_Make_Description 1_DAEWOO','Vehicle_Make_Description 1_DAIH','Vehicle_Make_Description 1_DATS','Vehicle_Make_Description 1_DATSUN','Vehicle_Make_Description 1_DISCOVERY','Vehicle_Make_Description 1_ECLIPSE','Vehicle_Make_Description 1_ECONOLINE','Vehicle_Make_Description 1_EL','Vehicle_Make_Description 1_EXPEDITION','Vehicle_Make_Description 1_F-100','Vehicle_Make_Description 1_F-150','Vehicle_Make_Description 1_F100','Vehicle_Make_Description 1_F150','Vehicle_Make_Description 1_F250','Vehicle_Make_Description 1_F350','Vehicle_Make_Description 1_FALCON','Vehicle_Make_Description 1_FD','Vehicle_Make_Description 1_FERR','Vehicle_Make_Description 1_FERRARI','Vehicle_Make_Description 1_FIAT','Vehicle_Make_Description 1_FIREBIRD','Vehicle_Make_Description 1_FR','Vehicle_Make_Description 1_FRANKLIN','Vehicle_Make_Description 1_GEM','Vehicle_Make_Description 1_HEV','Vehicle_Make_Description 1_HHR','Vehicle_Make_Description 1_HINO','Vehicle_Make_Description 1_HOMEADE','Vehicle_Make_Description 1_HUDSON','Vehicle_Make_Description 1_HUMMER','Vehicle_Make_Description 1_ICON','Vehicle_Make_Description 1_IMPERIAL','Vehicle_Make_Description 1_INT','Vehicle_Make_Description 1_INTE','Vehicle_Make_Description 1_INTER','Vehicle_Make_Description 1_INTL','Vehicle_Make_Description 1_INTNATL','Vehicle_Make_Description 1_INTNL','Vehicle_Make_Description 1_INTRL','Vehicle_Make_Description 1_JEEPSTER','Vehicle_Make_Description 1_K20','Vehicle_Make_Description 1_KAIS','Vehicle_Make_Description 1_LAND','Vehicle_Make_Description 1_LANDROVER','Vehicle_Make_Description 1_LNDR','Vehicle_Make_Description 1_MALIBU','Vehicle_Make_Description 1_MARK','Vehicle_Make_Description 1_MAVERICK','Vehicle_Make_Description 1_MAXIMA','Vehicle_Make_Description 1_MBG','Vehicle_Make_Description 1_MDGT','Vehicle_Make_Description 1_MERCURY','Vehicle_Make_Description 1_METRO','Vehicle_Make_Description 1_MG','Vehicle_Make_Description 1_MGB','Vehicle_Make_Description 1_MGM','Vehicle_Make_Description 1_MINI','Vehicle_Make_Description 1_MUSTANG','Vehicle_Make_Description 1_NOVA','Vehicle_Make_Description 1_PACK','Vehicle_Make_Description 1_PACKARD','Vehicle_Make_Description 1_PEUG','Vehicle_Make_Description 1_PICKUP','Vehicle_Make_Description 1_PLY','Vehicle_Make_Description 1_PORT','Vehicle_Make_Description 1_RAMBLER','Vehicle_Make_Description 1_RANGE','Vehicle_Make_Description 1_RANGER','Vehicle_Make_Description 1_RNLT','Vehicle_Make_Description 1_ROLLS','Vehicle_Make_Description 1_SANTA','Vehicle_Make_Description 1_SCION','Vehicle_Make_Description 1_SCOTT','Vehicle_Make_Description 1_SEDONA','Vehicle_Make_Description 1_SIERRA','Vehicle_Make_Description 1_SILVER','Vehicle_Make_Description 1_SORENTO','Vehicle_Make_Description 1_STAN','Vehicle_Make_Description 1_STUD','Vehicle_Make_Description 1_STUDEBAKER','Vehicle_Make_Description 1_SUB','Vehicle_Make_Description 1_SUBURBAN','Vehicle_Make_Description 1_TORINO','Vehicle_Make_Description 1_TRANSAM','Vehicle_Make_Description 1_TRIU','Vehicle_Make_Description 1_TRIUMPH','Vehicle_Make_Description 1_TRUMP','Vehicle_Make_Description 1_V','Vehicle_Make_Description 1_VM','Vehicle_Make_Description 1_WILI','Vehicle_Make_Description 1_WILL','Vehicle_Make_Description 1_WILLIS','Vehicle_Make_Description 1_WRAN','Vehicle_Make_Description 1_XTST','Vehicle_Make_Description 1_YUGO','Vehicle_Symbol_-1','Vehicle_Symbol_9','EEA_Policy_Zip_Code_3_101.0','EEA_Policy_Zip_Code_3_123.0','EEA_Policy_Zip_Code_3_128.0','EEA_Policy_Zip_Code_3_129.0','EEA_Policy_Zip_Code_3_130.0','EEA_Policy_Zip_Code_3_138.0','EEA_Policy_Zip_Code_3_140.0','EEA_Policy_Zip_Code_3_143.0','EEA_Policy_Zip_Code_3_148.0','EEA_Policy_Zip_Code_3_153.0','EEA_Policy_Zip_Code_3_154.0','EEA_Policy_Zip_Code_3_155.0','EEA_Policy_Zip_Code_3_156.0','EEA_Policy_Zip_Code_3_158.0','EEA_Policy_Zip_Code_3_159.0','EEA_Policy_Zip_Code_3_160.0','EEA_Policy_Zip_Code_3_161.0','EEA_Policy_Zip_Code_3_198.0','EEA_Policy_Zip_Code_3_200.0','EEA_Policy_Zip_Code_3_214.0','EEA_Policy_Zip_Code_3_225.0','EEA_Policy_Zip_Code_3_226.0','EEA_Policy_Zip_Code_3_230.0','EEA_Policy_Zip_Code_3_231.0','EEA_Policy_Zip_Code_3_234.0','EEA_Policy_Zip_Code_3_235.0','EEA_Policy_Zip_Code_3_238.0','EEA_Policy_Zip_Code_3_241.0','EEA_Policy_Zip_Code_3_252.0','EEA_Policy_Zip_Code_3_255.0','EEA_Policy_Zip_Code_3_276.0','EEA_Policy_Zip_Code_3_294.0','EEA_Policy_Zip_Code_3_314.0','EEA_Policy_Zip_Code_3_321.0','EEA_Policy_Zip_Code_3_324.0','EEA_Policy_Zip_Code_3_325.0','EEA_Policy_Zip_Code_3_327.0','EEA_Policy_Zip_Code_3_328.0','EEA_Policy_Zip_Code_3_329.0','EEA_Policy_Zip_Code_3_331.0','EEA_Policy_Zip_Code_3_332.0','EEA_Policy_Zip_Code_3_333.0','EEA_Policy_Zip_Code_3_338.0','EEA_Policy_Zip_Code_3_341.0','EEA_Policy_Zip_Code_3_347.0','EEA_Policy_Zip_Code_3_354.0','EEA_Policy_Zip_Code_3_355.0','EEA_Policy_Zip_Code_3_359.0','EEA_Policy_Zip_Code_3_366.0','EEA_Policy_Zip_Code_3_368.0','EEA_Policy_Zip_Code_3_393.0','EEA_Policy_Zip_Code_3_395.0','EEA_Policy_Zip_Code_3_399.0','EEA_Policy_Zip_Code_3_401.0','EEA_Policy_Zip_Code_3_406.0','EEA_Policy_Zip_Code_3_410.0','EEA_Policy_Zip_Code_3_411.0','EEA_Policy_Zip_Code_3_412.0','EEA_Policy_Zip_Code_3_414.0','EEA_Policy_Zip_Code_3_416.0','EEA_Policy_Zip_Code_3_417.0','EEA_Policy_Zip_Code_3_419.0','EEA_Policy_Zip_Code_3_420.0','EEA_Policy_Zip_Code_3_421.0','EEA_Policy_Zip_Code_3_422.0','EEA_Policy_Zip_Code_3_443.0','EEA_Policy_Zip_Code_3_444.0','EEA_Policy_Zip_Code_3_445.0','EEA_Policy_Zip_Code_3_446.0','EEA_Policy_Zip_Code_3_447.0','EEA_Policy_Zip_Code_3_448.0','EEA_Policy_Zip_Code_3_449.0','EEA_Policy_Zip_Code_3_450.0','EEA_Policy_Zip_Code_3_451.0','EEA_Policy_Zip_Code_3_452.0','EEA_Policy_Zip_Code_3_453.0','EEA_Policy_Zip_Code_3_454.0','EEA_Policy_Zip_Code_3_455.0','EEA_Policy_Zip_Code_3_456.0','EEA_Policy_Zip_Code_3_459.0','EEA_Policy_Zip_Code_3_461.0','EEA_Policy_Zip_Code_3_462.0','EEA_Policy_Zip_Code_3_463.0','EEA_Policy_Zip_Code_3_464.0','EEA_Policy_Zip_Code_3_465.0','EEA_Policy_Zip_Code_3_470.0','EEA_Policy_Zip_Code_3_471.0','EEA_Policy_Zip_Code_3_473.0','EEA_Policy_Zip_Code_3_474.0','EEA_Policy_Zip_Code_3_475.0','EEA_Policy_Zip_Code_3_477.0','EEA_Policy_Zip_Code_3_479.0','EEA_Policy_Zip_Code_3_480.0','EEA_Policy_Zip_Code_3_481.0','EEA_Policy_Zip_Code_3_482.0','EEA_Policy_Zip_Code_3_483.0','EEA_Policy_Zip_Code_3_484.0','EEA_Policy_Zip_Code_3_485.0','EEA_Policy_Zip_Code_3_486.0','EEA_Policy_Zip_Code_3_487.0','EEA_Policy_Zip_Code_3_488.0','EEA_Policy_Zip_Code_3_489.0','EEA_Policy_Zip_Code_3_491.0','EEA_Policy_Zip_Code_3_492.0','EEA_Policy_Zip_Code_3_493.0','EEA_Policy_Zip_Code_3_494.0','EEA_Policy_Zip_Code_3_496.0','EEA_Policy_Zip_Code_3_497.0','EEA_Policy_Zip_Code_3_499.0','EEA_Policy_Zip_Code_3_501.0','EEA_Policy_Zip_Code_3_502.0','EEA_Policy_Zip_Code_3_506.0','EEA_Policy_Zip_Code_3_508.0','EEA_Policy_Zip_Code_3_509.0','EEA_Policy_Zip_Code_3_510.0','EEA_Policy_Zip_Code_3_511.0','EEA_Policy_Zip_Code_3_513.0','EEA_Policy_Zip_Code_3_514.0','EEA_Policy_Zip_Code_3_515.0','EEA_Policy_Zip_Code_3_518.0','EEA_Policy_Zip_Code_3_519.0','EEA_Policy_Zip_Code_3_520.0','EEA_Policy_Zip_Code_3_524.0','EEA_Policy_Zip_Code_3_525.0','EEA_Policy_Zip_Code_3_526.0','EEA_Policy_Zip_Code_3_528.0','EEA_Policy_Zip_Code_3_530.0','EEA_Policy_Zip_Code_3_549.0','EEA_Policy_Zip_Code_3_574.0','EEA_Policy_Zip_Code_3_577.0','EEA_Policy_Zip_Code_3_589.0','EEA_Policy_Zip_Code_3_591.0','EEA_Policy_Zip_Code_3_593.0','EEA_Policy_Zip_Code_3_611.0','EEA_Policy_Zip_Code_3_624.0','EEA_Policy_Zip_Code_3_625.0','EEA_Policy_Zip_Code_3_628.0','EEA_Policy_Zip_Code_3_658.0','EEA_Policy_Zip_Code_3_676.0','EEA_Policy_Zip_Code_3_695.0','EEA_Policy_Zip_Code_3_719.0','EEA_Policy_Zip_Code_3_723.0','EEA_Policy_Zip_Code_3_725.0','EEA_Policy_Zip_Code_3_728.0','EEA_Policy_Zip_Code_3_729.0','EEA_Policy_Zip_Code_3_730.0','EEA_Policy_Zip_Code_3_739.0','EEA_Policy_Zip_Code_3_740.0','EEA_Policy_Zip_Code_3_741.0','EEA_Policy_Zip_Code_3_747.0','EEA_Policy_Zip_Code_3_777.0','EEA_Policy_Zip_Code_3_778.0','EEA_Policy_Zip_Code_3_783.0','EEA_Policy_Zip_Code_3_797.0','EEA_Policy_Zip_Code_3_799.0','EEA_Policy_Zip_Code_3_803.0','EEA_Policy_Zip_Code_3_804.0','EEA_Policy_Zip_Code_3_813.0','EEA_Policy_Zip_Code_3_821.0','EEA_Policy_Zip_Code_3_822.0','EEA_Policy_Zip_Code_3_824.0','EEA_Policy_Zip_Code_3_825.0','EEA_Policy_Zip_Code_3_826.0','EEA_Policy_Zip_Code_3_828.0','EEA_Policy_Zip_Code_3_830.0','EEA_Policy_Zip_Code_3_843.0','EEA_Policy_Zip_Code_3_845.0','EEA_Policy_Zip_Code_3_849.0','EEA_Policy_Zip_Code_3_855.0','EEA_Policy_Zip_Code_3_859.0','EEA_Policy_Zip_Code_3_861.0','EEA_Policy_Zip_Code_3_864.0','EEA_Policy_Zip_Code_3_873.0','EEA_Policy_Zip_Code_3_878.0','EEA_Policy_Zip_Code_3_887.0','EEA_Policy_Zip_Code_3_896.0','EEA_Policy_Zip_Code_3_905.0','EEA_Policy_Zip_Code_3_924.0','EEA_Policy_Zip_Code_3_925.0','EEA_Policy_Zip_Code_3_940.0','EEA_Policy_Zip_Code_3_949.0','EEA_Policy_Zip_Code_3_951.0','EEA_Policy_Zip_Code_3_973.0','EEA_Policy_Zip_Code_3_983.0','EEA_Policy_Zip_Code_3_994.0','EEA_Policy_Zip_Code_first_two_10','EEA_Policy_Zip_Code_first_two_12','EEA_Policy_Zip_Code_first_two_13','EEA_Policy_Zip_Code_first_two_14','EEA_Policy_Zip_Code_first_two_15','EEA_Policy_Zip_Code_first_two_16','EEA_Policy_Zip_Code_first_two_19','EEA_Policy_Zip_Code_first_two_20','EEA_Policy_Zip_Code_first_two_21','EEA_Policy_Zip_Code_first_two_22','EEA_Policy_Zip_Code_first_two_23','EEA_Policy_Zip_Code_first_two_24','EEA_Policy_Zip_Code_first_two_25','EEA_Policy_Zip_Code_first_two_27','EEA_Policy_Zip_Code_first_two_29','EEA_Policy_Zip_Code_first_two_31','EEA_Policy_Zip_Code_first_two_32','EEA_Policy_Zip_Code_first_two_33','EEA_Policy_Zip_Code_first_two_34','EEA_Policy_Zip_Code_first_two_35','EEA_Policy_Zip_Code_first_two_36','EEA_Policy_Zip_Code_first_two_39','EEA_Policy_Zip_Code_first_two_40','EEA_Policy_Zip_Code_first_two_41','EEA_Policy_Zip_Code_first_two_45','EEA_Policy_Zip_Code_first_two_46','EEA_Policy_Zip_Code_first_two_47','EEA_Policy_Zip_Code_first_two_48','EEA_Policy_Zip_Code_first_two_49','EEA_Policy_Zip_Code_first_two_50','EEA_Policy_Zip_Code_first_two_51','EEA_Policy_Zip_Code_first_two_53','EEA_Policy_Zip_Code_first_two_54','EEA_Policy_Zip_Code_first_two_57','EEA_Policy_Zip_Code_first_two_58','EEA_Policy_Zip_Code_first_two_59','EEA_Policy_Zip_Code_first_two_61','EEA_Policy_Zip_Code_first_two_62','EEA_Policy_Zip_Code_first_two_65','EEA_Policy_Zip_Code_first_two_67','EEA_Policy_Zip_Code_first_two_69','EEA_Policy_Zip_Code_first_two_71','EEA_Policy_Zip_Code_first_two_72','EEA_Policy_Zip_Code_first_two_73','EEA_Policy_Zip_Code_first_two_74','EEA_Policy_Zip_Code_first_two_77','EEA_Policy_Zip_Code_first_two_78','EEA_Policy_Zip_Code_first_two_79','EEA_Policy_Zip_Code_first_two_80','EEA_Policy_Zip_Code_first_two_81','EEA_Policy_Zip_Code_first_two_82','EEA_Policy_Zip_Code_first_two_83','EEA_Policy_Zip_Code_first_two_84','EEA_Policy_Zip_Code_first_two_85','EEA_Policy_Zip_Code_first_two_86','EEA_Policy_Zip_Code_first_two_87','EEA_Policy_Zip_Code_first_two_88','EEA_Policy_Zip_Code_first_two_89','EEA_Policy_Zip_Code_first_two_90','EEA_Policy_Zip_Code_first_two_92','EEA_Policy_Zip_Code_first_two_94','EEA_Policy_Zip_Code_first_two_95','EEA_Policy_Zip_Code_first_two_97','EEA_Policy_Zip_Code_first_two_98','EEA_Policy_Zip_Code_first_two_99'], axis=1)\n",
        " \n",
        "# # write code to split data back to portfolios // Use variable list_of_dataframes ***\n",
        "# list_of_dataframes = pd.DataFrame()\n",
        "# i=1\n",
        "# j=1\n",
        "# for record in encod_test:\n",
        "#   portfolio = []\n",
        "#   if df.loc[df['Portfolio']=='test_portfolio_' + j + '.csv']:\n",
        "#   # if encod_test == 'test_portfolio_' + i + '.csv'\n",
        "#     portfolio.append(record)\n",
        "#   else:\n",
        "#     j=i"
      ],
      "execution_count": 0,
      "outputs": []
    },
    {
      "cell_type": "markdown",
      "metadata": {
        "colab_type": "text",
        "id": "o1gImdm8turV"
      },
      "source": [
        "Create new variables to be added to the encod_test data."
      ]
    },
    {
      "cell_type": "code",
      "metadata": {
        "colab_type": "code",
        "id": "mKic0vGPskC3",
        "colab": {}
      },
      "source": [
        "encod_test['Vehicle_Bodily_Injury_Limit_100-500_new']=encod_test['Vehicle_Bodily_Injury_Limit_100-300']+encod_test['Vehicle_Bodily_Injury_Limit_250-500']+encod_test['Vehicle_Bodily_Injury_Limit_300-500']+encod_test['Vehicle_Bodily_Injury_Limit_500-500']+encod_test['Vehicle_Bodily_Injury_Limit_100-500']\n",
        "encod_test['Vehicle_Bodily_Injury_Limit_25-100_new']=encod_test['Vehicle_Bodily_Injury_Limit_25-50  ']+encod_test['Vehicle_Bodily_Injury_Limit_50-100 ']\n",
        "\n",
        "encod_test['Vehicle_Make_Age']=encod_test.apply(lambda _: '', axis=1)\n",
        "encod_test['Vehicle_Make_Age']=abs(2009-encod_test['Vehicle_Make_Year'])\n",
        "encod_test['Vehicle_Make_Age_0-5']=encod_test.apply(lambda _: '', axis=1)\n",
        "encod_test['Vehicle_Make_Age_5-10']=encod_test.apply(lambda _: '', axis=1)\n",
        "encod_test['Vehicle_Make_Age_10-20']=encod_test.apply(lambda _: '', axis=1)\n",
        "encod_test['Vehicle_Make_Age_20-50']=encod_test.apply(lambda _: '', axis=1)\n",
        "encod_test['Vehicle_Make_Age_>50']=encod_test.apply(lambda _: '', axis=1)\n",
        "\n",
        "for i in encod_test.index:\n",
        "\n",
        "  record = encod_test.get_value(i,'Vehicle_Make_Age')\n",
        "\n",
        "  if record >= 0 and record<5:\n",
        "     encod_test.at[i,'Vehicle_Make_Age_0-5']=1\n",
        "  else:\n",
        "     encod_test.at[ i,'Vehicle_Make_Age_0-5']=0\n",
        "\n",
        "  if record >= 5 and record<10:\n",
        "     encod_test.at[ i,'Vehicle_Make_Age_5-10']=1\n",
        "  else:\n",
        "     encod_test.at[ i,'Vehicle_Make_Age_5-10']=0\n",
        "\n",
        "  if record >=10 and record<20:\n",
        "     encod_test.at[ i,'Vehicle_Make_Age_10-20']=1\n",
        "  else:\n",
        "     encod_test.at[ i,'Vehicle_Make_Age_10-20']=0\n",
        "\n",
        "  if record >=20 and record<50:\n",
        "     encod_test.at[ i,'Vehicle_Make_Age_20-50']=1\n",
        "  else:\n",
        "     encod_test.at[ i,'Vehicle_Make_Age_20-50']=0\n",
        "\n",
        "  if record >=50:\n",
        "     encod_test.at[ i,'Vehicle_Make_Age_>50']=1\n",
        "  else:\n",
        "     encod_test.at[ i,'Vehicle_Make_Age_>50']=0\n",
        "     \n",
        "encod_test['Vehicle_Number_Of_Drivers_Assigned_1']=encod_test.apply(lambda _: '', axis=1)\n",
        "encod_test['Vehicle_Number_Of_Drivers_Assigned_2-8']=encod_test.apply(lambda _: '', axis=1)\n",
        "encod_test['Vehicle_Number_Of_Drivers_Assigned_99']=encod_test.apply(lambda _: '', axis=1)\n",
        "\n",
        "for i in encod_test.index:\n",
        "\n",
        "  record = encod_test.get_value(i,'Vehicle_Number_Of_Drivers_Assigned')\n",
        "\n",
        "  if record == 1:\n",
        "    encod_test.at[ i,'Vehicle_Number_Of_Drivers_Assigned_1']=1\n",
        "  else:\n",
        "    encod_test.at[ i,'Vehicle_Number_Of_Drivers_Assigned_1']=0\n",
        "\n",
        "  if record >=2 and record<9:\n",
        "    encod_test.at[i,'Vehicle_Number_Of_Drivers_Assigned_2-8']=1\n",
        "  else:\n",
        "    encod_test.at[i,'Vehicle_Number_Of_Drivers_Assigned_2-8']=0\n",
        "\n",
        "  if record >= 99:\n",
        "    encod_test.at[i,'Vehicle_Number_Of_Drivers_Assigned_99']=1\n",
        "  else:\n",
        "    encod_test.at[i,'Vehicle_Number_Of_Drivers_Assigned_99']=0\n",
        "\n",
        "encod_test['EEA_Policy_Tenure_0-10']=encod_test.apply(lambda _: '', axis=1)\n",
        "encod_test['EEA_Policy_Tenure_10-20']=encod_test.apply(lambda _: '', axis=1)\n",
        "encod_test['EEA_Policy_Tenure_20-30']=encod_test.apply(lambda _: '', axis=1)\n",
        "encod_test['EEA_Policy_Tenure_30-40']=encod_test.apply(lambda _: '', axis=1)\n",
        "encod_test['EEA_Policy_Tenure_40-50']=encod_test.apply(lambda _: '', axis=1)\n",
        "encod_test['EEA_Policy_Tenure_50-60']=encod_test.apply(lambda _: '', axis=1)\n",
        "\n",
        "for i in encod_test.index:\n",
        "\n",
        "  record = encod_test.get_value(i,'EEA_Policy_Tenure')\n",
        "\n",
        "  if record >=0 and record < 10 :\n",
        "    encod_test.at[i,'EEA_Policy_Tenure_0-10']=1\n",
        "  else:\n",
        "    encod_test.at[i,'EEA_Policy_Tenure_0-10']=0\n",
        "\n",
        "  if record >=10 and record < 20 :\n",
        "    encod_test.at[i,'EEA_Policy_Tenure_10-20']=1\n",
        "  else:\n",
        "    encod_test.at[i,'EEA_Policy_Tenure_10-20']=0\n",
        "  \n",
        "  if record >=20 and record < 30 :\n",
        "    encod_test.at[i,'EEA_Policy_Tenure_20-30']=1\n",
        "  else:\n",
        "    encod_test.at[i,'EEA_Policy_Tenure_20-30']=0\n",
        "  \n",
        "  if record >=30 and record < 40 :\n",
        "    encod_test.at[i,'EEA_Policy_Tenure_30-40']=1\n",
        "  else:\n",
        "    encod_test.at[i,'EEA_Policy_Tenure_30-40']=0\n",
        "  \n",
        "  if record >=40 and record < 50 :\n",
        "    encod_test.at[i,'EEA_Policy_Tenure_40-50']=1\n",
        "  else:\n",
        "    encod_test.at[i,'EEA_Policy_Tenure_40-50']=0\n",
        "  \n",
        "  if record >=50 and record < 60 :\n",
        "    encod_test.at[i,'EEA_Policy_Tenure_50-60']=1\n",
        "  else:\n",
        "    encod_test.at[i,'EEA_Policy_Tenure_50-60']=0\n",
        "    \n",
        "encod_test['Annual_Premium_0-1000']=encod_test.apply(lambda _: '', axis=1)\n",
        "encod_test['Annual_Premium_1000-2000']=encod_test.apply(lambda _: '', axis=1)\n",
        "encod_test['Annual_Premium_2000-3000']=encod_test.apply(lambda _: '', axis=1)\n",
        "encod_test['Annual_Premium_3000-4000']=encod_test.apply(lambda _: '', axis=1)\n",
        "\n",
        "for i in encod_test.index:\n",
        "  \n",
        "  record = encod_test.get_value(i,'Annual_Premium')\n",
        "\n",
        "  if record >=0 and record < 1000 :\n",
        "    encod_test.at[i,'Annual_Premium_0-1000']=1\n",
        "  else:\n",
        "    encod_test.at[i,'Annual_Premium_0-1000']=0\n",
        "\n",
        "  if record >=1000 and record < 2000 :\n",
        "    encod_test.at[i,'Annual_Premium_1000-2000']=1\n",
        "  else:\n",
        "    encod_test.at[i,'Annual_Premium_1000-2000']=0\n",
        "\n",
        "  if record >=2000 and record < 3000 :\n",
        "    encod_test.at[i,'Annual_Premium_2000-3000']=1\n",
        "  else:\n",
        "    encod_test.at[i,'Annual_Premium_2000-3000']=0\n",
        "\n",
        "  if record >=3000 and record < 4000 :\n",
        "    encod_test.at[i,'Annual_Premium_3000-4000']=1\n",
        "  else:\n",
        "    encod_test.at[i,'Annual_Premium_3000-4000']=0\n",
        "\n",
        "\n",
        "encod_test['Vehicle_Miles_To_Work_0-10']=encod_test.apply(lambda _: '', axis=1)\n",
        "encod_test['Vehicle_Miles_To_Work_10-20']=encod_test.apply(lambda _: '', axis=1)\n",
        "encod_test['Vehicle_Miles_To_Work_20-30']=encod_test.apply(lambda _: '', axis=1)\n",
        "encod_test['Vehicle_Miles_To_Work_30-40']=encod_test.apply(lambda _: '', axis=1)\n",
        "encod_test['Vehicle_Miles_To_Work_40-50']=encod_test.apply(lambda _: '', axis=1)\n",
        "encod_test['Vehicle_Miles_To_Work_50-60']=encod_test.apply(lambda _: '', axis=1)\n",
        "encod_test['Vehicle_Miles_To_Work_60-70']=encod_test.apply(lambda _: '', axis=1)\n",
        "encod_test['Vehicle_Miles_To_Work_70-80']=encod_test.apply(lambda _: '', axis=1)\n",
        "encod_test['Vehicle_Miles_To_Work_80-90']=encod_test.apply(lambda _: '', axis=1)\n",
        "encod_test['Vehicle_Miles_To_Work_90-100']=encod_test.apply(lambda _: '', axis=1)\n",
        "\n",
        "for i in encod_test.index:\n",
        "\n",
        "  record = encod_test.get_value(i,'Vehicle_Miles_To_Work')\n",
        "\n",
        "  if record >=0 and record < 10 :\n",
        "    encod_test.at[i,'Vehicle_Miles_To_Work_0-10']=1\n",
        "  else:\n",
        "    encod_test.at[i,'Vehicle_Miles_To_Work_0-10']=0\n",
        "\n",
        "  if record >=10 and record < 20 :\n",
        "    encod_test.at[i,'Vehicle_Miles_To_Work_10-20']=1\n",
        "  else:\n",
        "    encod_test.at[i,'Vehicle_Miles_To_Work_10-20']=0\n",
        "  \n",
        "  if record >=20 and record < 30 :\n",
        "    encod_test.at[i,'Vehicle_Miles_To_Work_20-30']=1\n",
        "  else:\n",
        "    encod_test.at[i,'Vehicle_Miles_To_Work_20-30']=0\n",
        "  \n",
        "  if record >=30 and record < 40 :\n",
        "    encod_test.at[i,'Vehicle_Miles_To_Work_30-40']=1\n",
        "  else:\n",
        "    encod_test.at[i,'Vehicle_Miles_To_Work_30-40']=0\n",
        "  \n",
        "  if record >=40 and record < 50 :\n",
        "    encod_test.at[i,'Vehicle_Miles_To_Work_40-50']=1\n",
        "  else:\n",
        "    encod_test.at[i,'Vehicle_Miles_To_Work_40-50']=0\n",
        "  \n",
        "  if record >=50 and record < 60 :\n",
        "    encod_test.at[i,'Vehicle_Miles_To_Work_50-60']=1\n",
        "  else:\n",
        "    encod_test.at[i,'Vehicle_Miles_To_Work_50-60']=0\n",
        "\n",
        "  if record >=60 and record < 70 :\n",
        "    encod_test.at[i,'Vehicle_Miles_To_Work_60-70']=1\n",
        "  else:\n",
        "    encod_test.at[i,'Vehicle_Miles_To_Work_60-70']=0\n",
        "\n",
        "  if record >=70 and record < 80 :\n",
        "    encod_test.at[i,'Vehicle_Miles_To_Work_70-80']=1\n",
        "  else:\n",
        "    encod_test.at[i,'Vehicle_Miles_To_Work_70-80']=0\n",
        "\n",
        "  if record >=80 and record < 90 :\n",
        "    encod_test.at[i,'Vehicle_Miles_To_Work_80-90']=1\n",
        "  else:\n",
        "    encod_test.at[i,'Vehicle_Miles_To_Work_80-90']=0\n",
        "\n",
        "  if record >=90 and record < 100 :\n",
        "    encod_test.at[i,'Vehicle_Miles_To_Work_90-100']=1\n",
        "  else:\n",
        "    encod_test.at[i,'Vehicle_Miles_To_Work_90-100']=0    \n"
      ],
      "execution_count": 0,
      "outputs": []
    },
    {
      "cell_type": "markdown",
      "metadata": {
        "colab_type": "text",
        "id": "rWJ8xM-fsu-3"
      },
      "source": [
        "Drop 'Vehicle_Make_Year' as not needed anymore."
      ]
    },
    {
      "cell_type": "code",
      "metadata": {
        "colab_type": "code",
        "id": "WCDa_eWtslyE",
        "colab": {}
      },
      "source": [
        "encod_test = encod_test.drop(['Vehicle_Make_Year'], axis=1)"
      ],
      "execution_count": 0,
      "outputs": []
    },
    {
      "cell_type": "code",
      "metadata": {
        "colab_type": "code",
        "id": "0-eN1HYv5d7n",
        "colab": {}
      },
      "source": [
        "encod_test.to_csv('encod_test_first.csv', index=False)"
      ],
      "execution_count": 0,
      "outputs": []
    },
    {
      "cell_type": "code",
      "metadata": {
        "colab_type": "code",
        "id": "Hqv832jzOout",
        "colab": {}
      },
      "source": [
        "encod_test = pd.read_csv('encod_test_first.csv')"
      ],
      "execution_count": 0,
      "outputs": []
    },
    {
      "cell_type": "markdown",
      "metadata": {
        "colab_type": "text",
        "id": "SjlBZ1gRs30_"
      },
      "source": [
        "Reorder encod_test df after adding all the new variables."
      ]
    },
    {
      "cell_type": "code",
      "metadata": {
        "colab_type": "code",
        "id": "TRhO-DFMsmfV",
        "colab": {}
      },
      "source": [
        "encod_test_temp=encod_test[[\n",
        " 'Policy_Company_Preferred',\n",
        " 'Policy_Company_Standard ',\n",
        " 'Policy_Installment_Term_6',\n",
        " 'Policy_Installment_Term_12',\n",
        " 'Policy_Billing_Code_Direct Billed to Insured',\n",
        " 'Policy_Billing_Code_Premium Finance',\n",
        " 'Policy_Method_Of_Payment_Installment',\n",
        " 'Policy_Method_Of_Payment_Pre-paid',\n",
        " 'Policy_Reinstatement_Fee_Indicator_N',\n",
        " 'Policy_Reinstatement_Fee_Indicator_Y',\n",
        " 'Vehicle_Territory_13',\n",
        " 'Vehicle_Territory_15',\n",
        " 'Vehicle_Territory_16',\n",
        " 'Vehicle_Territory_17',\n",
        " 'Vehicle_Territory_18',\n",
        " 'Vehicle_Territory_19',\n",
        " 'Vehicle_Territory_20',\n",
        " 'Vehicle_Territory_22',\n",
        " 'Vehicle_Territory_26',\n",
        " 'Vehicle_Territory_27',\n",
        " 'Vehicle_Territory_30',\n",
        " 'Vehicle_Territory_31',\n",
        " 'Vehicle_Territory_32',\n",
        " 'Vehicle_Territory_35',\n",
        " 'Vehicle_Territory_36',\n",
        " 'Vehicle_Territory_37',\n",
        " 'Vehicle_Make_Age',\n",
        " 'Vehicle_Make_Age_0-5',\n",
        " 'Vehicle_Make_Age_5-10',\n",
        " 'Vehicle_Make_Age_10-20',\n",
        " 'Vehicle_Make_Age_20-50',\n",
        " 'Vehicle_Make_Age_>50',\n",
        " 'Vehicle_Performance_High',\n",
        " 'Vehicle_Performance_Intermediate',\n",
        " 'Vehicle_Performance_Sports',\n",
        " 'Vehicle_Performance_Sports Premium',\n",
        " 'Vehicle_Performance_Standard',\n",
        " 'Vehicle_New_Cost_Amount',\n",
        " 'Vehicle_Symbol_-1',\n",
        " 'Vehicle_Symbol_1',\n",
        " 'Vehicle_Symbol_2',\n",
        " 'Vehicle_Symbol_3',\n",
        " 'Vehicle_Symbol_4',\n",
        " 'Vehicle_Symbol_5',\n",
        " 'Vehicle_Symbol_6',\n",
        " 'Vehicle_Symbol_7',\n",
        " 'Vehicle_Symbol_8',\n",
        " 'Vehicle_Symbol_9',\n",
        " 'Vehicle_Symbol_10',\n",
        " 'Vehicle_Symbol_11',\n",
        " 'Vehicle_Symbol_12',\n",
        " 'Vehicle_Symbol_13',\n",
        " 'Vehicle_Symbol_14',\n",
        " 'Vehicle_Symbol_15',\n",
        " 'Vehicle_Symbol_16',\n",
        " 'Vehicle_Symbol_17',\n",
        " 'Vehicle_Symbol_18',\n",
        " 'Vehicle_Symbol_19',\n",
        " 'Vehicle_Symbol_20',\n",
        " 'Vehicle_Symbol_21',\n",
        " 'Vehicle_Symbol_22',\n",
        " 'Vehicle_Symbol_23',\n",
        " 'Vehicle_Symbol_24',\n",
        " 'Vehicle_Symbol_25',\n",
        " 'Vehicle_Symbol_26',\n",
        " 'Vehicle_Symbol_27',\n",
        " 'Vehicle_Number_Of_Drivers_Assigned',\n",
        " 'Vehicle_Number_Of_Drivers_Assigned_1',\n",
        " 'Vehicle_Number_Of_Drivers_Assigned_2-8',\n",
        " 'Vehicle_Number_Of_Drivers_Assigned_99',\n",
        " 'Vehicle_Usage_Business',\n",
        " 'Vehicle_Usage_Farm    ',\n",
        " 'Vehicle_Usage_Pleasure',\n",
        " 'Vehicle_Usage_Work    ',\n",
        " 'Vehicle_Miles_To_Work',\n",
        " 'Vehicle_Miles_To_Work_0-10',\n",
        " 'Vehicle_Miles_To_Work_10-20',\n",
        " 'Vehicle_Miles_To_Work_20-30',\n",
        " 'Vehicle_Miles_To_Work_30-40',\n",
        " 'Vehicle_Miles_To_Work_40-50',\n",
        " 'Vehicle_Miles_To_Work_50-60',\n",
        " 'Vehicle_Miles_To_Work_60-70',\n",
        " 'Vehicle_Miles_To_Work_70-80',\n",
        " 'Vehicle_Miles_To_Work_80-90',\n",
        " 'Vehicle_Miles_To_Work_90-100',\n",
        " 'Vehicle_Days_Per_Week_Driven_-1',\n",
        " 'Vehicle_Days_Per_Week_Driven_0',\n",
        " 'Vehicle_Days_Per_Week_Driven_1',\n",
        " 'Vehicle_Days_Per_Week_Driven_2',\n",
        " 'Vehicle_Days_Per_Week_Driven_3',\n",
        " 'Vehicle_Days_Per_Week_Driven_4',\n",
        " 'Vehicle_Days_Per_Week_Driven_5',\n",
        " 'Vehicle_Days_Per_Week_Driven_6',\n",
        " 'Vehicle_Days_Per_Week_Driven_7',\n",
        " 'Vehicle_Annual_Miles',\n",
        " 'Vehicle_Anti_Theft_Device_Active Disabling',\n",
        " 'Vehicle_Anti_Theft_Device_Alarm Only',\n",
        " 'Vehicle_Anti_Theft_Device_Not Applicable',\n",
        " 'Vehicle_Anti_Theft_Device_Passive Disabling-Vehicle Recovery',\n",
        " 'Vehicle_Passive_Restraint_N',\n",
        " 'Vehicle_Passive_Restraint_Y',\n",
        " 'Vehicle_Age_In_Years_1',\n",
        " 'Vehicle_Age_In_Years_2',\n",
        " 'Vehicle_Age_In_Years_3',\n",
        " 'Vehicle_Age_In_Years_4',\n",
        " 'Vehicle_Age_In_Years_5',\n",
        " 'Vehicle_Age_In_Years_6',\n",
        " 'Vehicle_Age_In_Years_7',\n",
        " 'Vehicle_Age_In_Years_8',\n",
        " 'Vehicle_Age_In_Years_9',\n",
        " 'Vehicle_Med_Pay_Limit_-1',\n",
        " 'Vehicle_Med_Pay_Limit_1000',\n",
        " 'Vehicle_Med_Pay_Limit_2000',\n",
        " 'Vehicle_Med_Pay_Limit_5000',\n",
        " 'Vehicle_Med_Pay_Limit_10000',\n",
        " 'Vehicle_Med_Pay_Limit_25000',\n",
        " 'Vehicle_Med_Pay_Limit_50000',\n",
        " 'Vehicle_Bodily_Injury_Limit_25-100_new',\n",
        " 'Vehicle_Bodily_Injury_Limit_25-50  ',\n",
        " 'Vehicle_Bodily_Injury_Limit_50-100 ',\n",
        " 'Vehicle_Bodily_Injury_Limit_100-500',\n",
        " 'Vehicle_Bodily_Injury_Limit_100-500_new',\n",
        " 'Vehicle_Bodily_Injury_Limit_100-300',\n",
        " 'Vehicle_Bodily_Injury_Limit_250-500',\n",
        " 'Vehicle_Bodily_Injury_Limit_300-500',\n",
        " 'Vehicle_Bodily_Injury_Limit_500-500',\n",
        " 'Vehicle_Bodily_Injury_Limit_1M-1M  ',\n",
        " 'Vehicle_Physical_Damage_Limit_-1',\n",
        " 'Vehicle_Physical_Damage_Limit_25000',\n",
        " 'Vehicle_Physical_Damage_Limit_35000',\n",
        " 'Vehicle_Physical_Damage_Limit_50000',\n",
        " 'Vehicle_Physical_Damage_Limit_100000',\n",
        " 'Vehicle_Physical_Damage_Limit_250000',\n",
        " 'Vehicle_Physical_Damage_Limit_500000',\n",
        " 'Vehicle_Physical_Damage_Limit_1000000',\n",
        " 'Vehicle_Comprehensive_Coverage_Indicator_N',\n",
        " 'Vehicle_Comprehensive_Coverage_Indicator_Y',\n",
        " 'Vehicle_Comprehensive_Coverage_Limit',\n",
        " 'Vehicle_Collision_Coverage_Indicator_N',\n",
        " 'Vehicle_Collision_Coverage_Indicator_Y',\n",
        " 'Vehicle_Collision_Coverage_Deductible_-1',\n",
        " 'Vehicle_Collision_Coverage_Deductible_50',\n",
        " 'Vehicle_Collision_Coverage_Deductible_100',\n",
        " 'Vehicle_Collision_Coverage_Deductible_200',\n",
        " 'Vehicle_Collision_Coverage_Deductible_250',\n",
        " 'Vehicle_Collision_Coverage_Deductible_500',\n",
        " 'Vehicle_Collision_Coverage_Deductible_1000',\n",
        " 'Vehicle_Collision_Coverage_Deductible_2000',\n",
        " 'Vehicle_Collision_Coverage_Deductible_3000',\n",
        " 'Driver_Total',\n",
        " 'Driver_Total_Male',\n",
        " 'Driver_Total_Female',\n",
        " 'Driver_Total_Single',\n",
        " 'Driver_Total_Married',\n",
        " 'Driver_Total_Related_To_Insured_Self',\n",
        " 'Driver_Total_Related_To_Insured_Spouse',\n",
        " 'Driver_Total_Related_To_Insured_Child',\n",
        " 'Driver_Total_Licensed_In_State',\n",
        " 'Driver_Minimum_Age',\n",
        " 'Driver_Maximum_Age',\n",
        " 'Driver_Total_Teenager_Age_15_19',\n",
        " 'Driver_Total_College_Ages_20_23',\n",
        " 'Driver_Total_Young_Adult_Ages_24_29',\n",
        " 'Driver_Total_Low_Middle_Adult_Ages_30_39',\n",
        " 'Driver_Total_Middle_Adult_Ages_40_49',\n",
        " 'Driver_Total_Adult_Ages_50_64',\n",
        " 'Driver_Total_Senior_Ages_65_69',\n",
        " 'Driver_Total_Upper_Senior_Ages_70_plus',\n",
        " 'Vehicle_Youthful_Driver_Indicator_N',\n",
        " 'Vehicle_Youthful_Driver_Indicator_Y',\n",
        " 'Vehicle_Youthful_Driver_Training_Code_Not Applicable                 ',\n",
        " 'Vehicle_Youthful_Driver_Training_Code_With Driver Training           ',\n",
        " 'Vehicle_Youthful_Driver_Training_Code_With or Without Driver Training',\n",
        " 'Vehicle_Youthful_Driver_Training_Code_Without Driver Training        ',\n",
        " 'Vehicle_Youthful_Good_Student_Code_Eligible for Good Student Credit    ',\n",
        " 'Vehicle_Youthful_Good_Student_Code_Not Eligible for Good Student Credit',\n",
        " 'Vehicle_Driver_Points_0',\n",
        " 'Vehicle_Driver_Points_1',\n",
        " 'Vehicle_Driver_Points_2',\n",
        " 'Vehicle_Driver_Points_3',\n",
        " 'Vehicle_Driver_Points_4',\n",
        " 'Vehicle_Driver_Points_5',\n",
        " 'Vehicle_Driver_Points_6',\n",
        " 'Vehicle_Driver_Points_7',\n",
        " 'Vehicle_Safe_Driver_Discount_Indicator_N',\n",
        " 'Vehicle_Safe_Driver_Discount_Indicator_Y',\n",
        " 'EEA_Liability_Coverage_Only_Indicator_N',\n",
        " 'EEA_Liability_Coverage_Only_Indicator_Y',\n",
        " 'EEA_Multi_Auto_Policies_Indicator_N',\n",
        " 'EEA_Multi_Auto_Policies_Indicator_Y',\n",
        " 'EEA_Policy_Zip_Code_3_101.0',\n",
        " 'EEA_Policy_Zip_Code_3_123.0',\n",
        " 'EEA_Policy_Zip_Code_3_128.0',\n",
        " 'EEA_Policy_Zip_Code_3_129.0',\n",
        " 'EEA_Policy_Zip_Code_3_130.0',\n",
        " 'EEA_Policy_Zip_Code_3_138.0',\n",
        " 'EEA_Policy_Zip_Code_3_140.0',\n",
        " 'EEA_Policy_Zip_Code_3_143.0',\n",
        " 'EEA_Policy_Zip_Code_3_148.0',\n",
        " 'EEA_Policy_Zip_Code_3_153.0',\n",
        " 'EEA_Policy_Zip_Code_3_154.0',\n",
        " 'EEA_Policy_Zip_Code_3_155.0',\n",
        " 'EEA_Policy_Zip_Code_3_156.0',\n",
        " 'EEA_Policy_Zip_Code_3_158.0',\n",
        " 'EEA_Policy_Zip_Code_3_159.0',\n",
        " 'EEA_Policy_Zip_Code_3_160.0',\n",
        " 'EEA_Policy_Zip_Code_3_161.0',\n",
        " 'EEA_Policy_Zip_Code_3_198.0',\n",
        " 'EEA_Policy_Zip_Code_3_200.0',\n",
        " 'EEA_Policy_Zip_Code_3_214.0',\n",
        " 'EEA_Policy_Zip_Code_3_225.0',\n",
        " 'EEA_Policy_Zip_Code_3_226.0',\n",
        " 'EEA_Policy_Zip_Code_3_230.0',\n",
        " 'EEA_Policy_Zip_Code_3_231.0',\n",
        " 'EEA_Policy_Zip_Code_3_234.0',\n",
        " 'EEA_Policy_Zip_Code_3_235.0',\n",
        " 'EEA_Policy_Zip_Code_3_238.0',\n",
        " 'EEA_Policy_Zip_Code_3_241.0',\n",
        " 'EEA_Policy_Zip_Code_3_252.0',\n",
        " 'EEA_Policy_Zip_Code_3_255.0',\n",
        " 'EEA_Policy_Zip_Code_3_276.0',\n",
        " 'EEA_Policy_Zip_Code_3_294.0',\n",
        " 'EEA_Policy_Zip_Code_3_314.0',\n",
        " 'EEA_Policy_Zip_Code_3_321.0',\n",
        " 'EEA_Policy_Zip_Code_3_324.0',\n",
        " 'EEA_Policy_Zip_Code_3_325.0',\n",
        " 'EEA_Policy_Zip_Code_3_327.0',\n",
        " 'EEA_Policy_Zip_Code_3_328.0',\n",
        " 'EEA_Policy_Zip_Code_3_329.0',\n",
        " 'EEA_Policy_Zip_Code_3_331.0',\n",
        " 'EEA_Policy_Zip_Code_3_332.0',\n",
        " 'EEA_Policy_Zip_Code_3_333.0',\n",
        " 'EEA_Policy_Zip_Code_3_338.0',\n",
        " 'EEA_Policy_Zip_Code_3_341.0',\n",
        " 'EEA_Policy_Zip_Code_3_347.0',\n",
        " 'EEA_Policy_Zip_Code_3_354.0',\n",
        " 'EEA_Policy_Zip_Code_3_355.0',\n",
        " 'EEA_Policy_Zip_Code_3_359.0',\n",
        " 'EEA_Policy_Zip_Code_3_366.0',\n",
        " 'EEA_Policy_Zip_Code_3_368.0',\n",
        " 'EEA_Policy_Zip_Code_3_393.0',\n",
        " 'EEA_Policy_Zip_Code_3_395.0',\n",
        " 'EEA_Policy_Zip_Code_3_399.0',\n",
        " 'EEA_Policy_Zip_Code_3_401.0',\n",
        " 'EEA_Policy_Zip_Code_3_406.0',\n",
        " 'EEA_Policy_Zip_Code_3_410.0',\n",
        " 'EEA_Policy_Zip_Code_3_411.0',\n",
        " 'EEA_Policy_Zip_Code_3_412.0',\n",
        " 'EEA_Policy_Zip_Code_3_414.0',\n",
        " 'EEA_Policy_Zip_Code_3_416.0',\n",
        " 'EEA_Policy_Zip_Code_3_417.0',\n",
        " 'EEA_Policy_Zip_Code_3_419.0',\n",
        " 'EEA_Policy_Zip_Code_3_420.0',\n",
        " 'EEA_Policy_Zip_Code_3_421.0',\n",
        " 'EEA_Policy_Zip_Code_3_422.0',\n",
        " 'EEA_Policy_Zip_Code_3_423.0',\n",
        " 'EEA_Policy_Zip_Code_3_424.0',\n",
        " 'EEA_Policy_Zip_Code_3_425.0',\n",
        " 'EEA_Policy_Zip_Code_3_426.0',\n",
        " 'EEA_Policy_Zip_Code_3_427.0',\n",
        " 'EEA_Policy_Zip_Code_3_428.0',\n",
        " 'EEA_Policy_Zip_Code_3_429.0',\n",
        " 'EEA_Policy_Zip_Code_3_430.0',\n",
        " 'EEA_Policy_Zip_Code_3_431.0',\n",
        " 'EEA_Policy_Zip_Code_3_432.0',\n",
        " 'EEA_Policy_Zip_Code_3_433.0',\n",
        " 'EEA_Policy_Zip_Code_3_434.0',\n",
        " 'EEA_Policy_Zip_Code_3_435.0',\n",
        " 'EEA_Policy_Zip_Code_3_436.0',\n",
        " 'EEA_Policy_Zip_Code_3_437.0',\n",
        " 'EEA_Policy_Zip_Code_3_438.0',\n",
        " 'EEA_Policy_Zip_Code_3_439.0',\n",
        " 'EEA_Policy_Zip_Code_3_440.0',\n",
        " 'EEA_Policy_Zip_Code_3_441.0',\n",
        " 'EEA_Policy_Zip_Code_3_442.0',\n",
        " 'EEA_Policy_Zip_Code_3_443.0',\n",
        " 'EEA_Policy_Zip_Code_3_444.0',\n",
        " 'EEA_Policy_Zip_Code_3_445.0',\n",
        " 'EEA_Policy_Zip_Code_3_446.0',\n",
        " 'EEA_Policy_Zip_Code_3_447.0',\n",
        " 'EEA_Policy_Zip_Code_3_448.0',\n",
        " 'EEA_Policy_Zip_Code_3_449.0',\n",
        " 'EEA_Policy_Zip_Code_3_450.0',\n",
        " 'EEA_Policy_Zip_Code_3_451.0',\n",
        " 'EEA_Policy_Zip_Code_3_452.0',\n",
        " 'EEA_Policy_Zip_Code_3_453.0',\n",
        " 'EEA_Policy_Zip_Code_3_454.0',\n",
        " 'EEA_Policy_Zip_Code_3_455.0',\n",
        " 'EEA_Policy_Zip_Code_3_456.0',\n",
        " 'EEA_Policy_Zip_Code_3_459.0',\n",
        " 'EEA_Policy_Zip_Code_3_461.0',\n",
        " 'EEA_Policy_Zip_Code_3_462.0',\n",
        " 'EEA_Policy_Zip_Code_3_463.0',\n",
        " 'EEA_Policy_Zip_Code_3_464.0',\n",
        " 'EEA_Policy_Zip_Code_3_465.0',\n",
        " 'EEA_Policy_Zip_Code_3_470.0',\n",
        " 'EEA_Policy_Zip_Code_3_471.0',\n",
        " 'EEA_Policy_Zip_Code_3_473.0',\n",
        " 'EEA_Policy_Zip_Code_3_474.0',\n",
        " 'EEA_Policy_Zip_Code_3_475.0',\n",
        " 'EEA_Policy_Zip_Code_3_477.0',\n",
        " 'EEA_Policy_Zip_Code_3_479.0',\n",
        " 'EEA_Policy_Zip_Code_3_480.0',\n",
        " 'EEA_Policy_Zip_Code_3_481.0',\n",
        " 'EEA_Policy_Zip_Code_3_482.0',\n",
        " 'EEA_Policy_Zip_Code_3_483.0',\n",
        " 'EEA_Policy_Zip_Code_3_484.0',\n",
        " 'EEA_Policy_Zip_Code_3_485.0',\n",
        " 'EEA_Policy_Zip_Code_3_486.0',\n",
        " 'EEA_Policy_Zip_Code_3_487.0',\n",
        " 'EEA_Policy_Zip_Code_3_488.0',\n",
        " 'EEA_Policy_Zip_Code_3_489.0',\n",
        " 'EEA_Policy_Zip_Code_3_491.0',\n",
        " 'EEA_Policy_Zip_Code_3_492.0',\n",
        " 'EEA_Policy_Zip_Code_3_493.0',\n",
        " 'EEA_Policy_Zip_Code_3_494.0',\n",
        " 'EEA_Policy_Zip_Code_3_496.0',\n",
        " 'EEA_Policy_Zip_Code_3_497.0',\n",
        " 'EEA_Policy_Zip_Code_3_499.0',\n",
        " 'EEA_Policy_Zip_Code_3_501.0',\n",
        " 'EEA_Policy_Zip_Code_3_502.0',\n",
        " 'EEA_Policy_Zip_Code_3_506.0',\n",
        " 'EEA_Policy_Zip_Code_3_508.0',\n",
        " 'EEA_Policy_Zip_Code_3_509.0',\n",
        " 'EEA_Policy_Zip_Code_3_510.0',\n",
        " 'EEA_Policy_Zip_Code_3_511.0',\n",
        " 'EEA_Policy_Zip_Code_3_513.0',\n",
        " 'EEA_Policy_Zip_Code_3_514.0',\n",
        " 'EEA_Policy_Zip_Code_3_515.0',\n",
        " 'EEA_Policy_Zip_Code_3_518.0',\n",
        " 'EEA_Policy_Zip_Code_3_519.0',\n",
        " 'EEA_Policy_Zip_Code_3_520.0',\n",
        " 'EEA_Policy_Zip_Code_3_521.0',\n",
        " 'EEA_Policy_Zip_Code_3_522.0',\n",
        " 'EEA_Policy_Zip_Code_3_524.0',\n",
        " 'EEA_Policy_Zip_Code_3_525.0',\n",
        " 'EEA_Policy_Zip_Code_3_526.0',\n",
        " 'EEA_Policy_Zip_Code_3_528.0',\n",
        " 'EEA_Policy_Zip_Code_3_530.0',\n",
        " 'EEA_Policy_Zip_Code_3_549.0',\n",
        " 'EEA_Policy_Zip_Code_3_574.0',\n",
        " 'EEA_Policy_Zip_Code_3_577.0',\n",
        " 'EEA_Policy_Zip_Code_3_589.0',\n",
        " 'EEA_Policy_Zip_Code_3_591.0',\n",
        " 'EEA_Policy_Zip_Code_3_593.0',\n",
        " 'EEA_Policy_Zip_Code_3_611.0',\n",
        " 'EEA_Policy_Zip_Code_3_624.0',\n",
        " 'EEA_Policy_Zip_Code_3_625.0',\n",
        " 'EEA_Policy_Zip_Code_3_628.0',\n",
        " 'EEA_Policy_Zip_Code_3_658.0',\n",
        " 'EEA_Policy_Zip_Code_3_676.0',\n",
        " 'EEA_Policy_Zip_Code_3_695.0',\n",
        " 'EEA_Policy_Zip_Code_3_719.0',\n",
        " 'EEA_Policy_Zip_Code_3_723.0',\n",
        " 'EEA_Policy_Zip_Code_3_725.0',\n",
        " 'EEA_Policy_Zip_Code_3_728.0',\n",
        " 'EEA_Policy_Zip_Code_3_729.0',\n",
        " 'EEA_Policy_Zip_Code_3_730.0',\n",
        " 'EEA_Policy_Zip_Code_3_739.0',\n",
        " 'EEA_Policy_Zip_Code_3_740.0',\n",
        " 'EEA_Policy_Zip_Code_3_741.0',\n",
        " 'EEA_Policy_Zip_Code_3_747.0',\n",
        " 'EEA_Policy_Zip_Code_3_777.0',\n",
        " 'EEA_Policy_Zip_Code_3_778.0',\n",
        " 'EEA_Policy_Zip_Code_3_783.0',\n",
        " 'EEA_Policy_Zip_Code_3_797.0',\n",
        " 'EEA_Policy_Zip_Code_3_799.0',\n",
        " 'EEA_Policy_Zip_Code_3_803.0',\n",
        " 'EEA_Policy_Zip_Code_3_804.0',\n",
        " 'EEA_Policy_Zip_Code_3_813.0',\n",
        " 'EEA_Policy_Zip_Code_3_821.0',\n",
        " 'EEA_Policy_Zip_Code_3_822.0',\n",
        " 'EEA_Policy_Zip_Code_3_824.0',\n",
        " 'EEA_Policy_Zip_Code_3_825.0',\n",
        " 'EEA_Policy_Zip_Code_3_826.0',\n",
        " 'EEA_Policy_Zip_Code_3_828.0',\n",
        " 'EEA_Policy_Zip_Code_3_830.0',\n",
        " 'EEA_Policy_Zip_Code_3_843.0',\n",
        " 'EEA_Policy_Zip_Code_3_845.0',\n",
        " 'EEA_Policy_Zip_Code_3_849.0',\n",
        " 'EEA_Policy_Zip_Code_3_855.0',\n",
        " 'EEA_Policy_Zip_Code_3_859.0',\n",
        " 'EEA_Policy_Zip_Code_3_861.0',\n",
        " 'EEA_Policy_Zip_Code_3_864.0',\n",
        " 'EEA_Policy_Zip_Code_3_873.0',\n",
        " 'EEA_Policy_Zip_Code_3_878.0',\n",
        " 'EEA_Policy_Zip_Code_3_887.0',\n",
        " 'EEA_Policy_Zip_Code_3_896.0',\n",
        " 'EEA_Policy_Zip_Code_3_905.0',\n",
        " 'EEA_Policy_Zip_Code_3_924.0',\n",
        " 'EEA_Policy_Zip_Code_3_925.0',\n",
        " 'EEA_Policy_Zip_Code_3_940.0',\n",
        " 'EEA_Policy_Zip_Code_3_949.0',\n",
        " 'EEA_Policy_Zip_Code_3_951.0',\n",
        " 'EEA_Policy_Zip_Code_3_973.0',\n",
        " 'EEA_Policy_Zip_Code_3_983.0',\n",
        " 'EEA_Policy_Zip_Code_3_994.0',\n",
        " 'EEA_Policy_Zip_Code_first_two_10',\n",
        " 'EEA_Policy_Zip_Code_first_two_12',\n",
        " 'EEA_Policy_Zip_Code_first_two_13',\n",
        " 'EEA_Policy_Zip_Code_first_two_14',\n",
        " 'EEA_Policy_Zip_Code_first_two_15',\n",
        " 'EEA_Policy_Zip_Code_first_two_16',\n",
        " 'EEA_Policy_Zip_Code_first_two_19',\n",
        " 'EEA_Policy_Zip_Code_first_two_20',\n",
        " 'EEA_Policy_Zip_Code_first_two_21',\n",
        " 'EEA_Policy_Zip_Code_first_two_22',\n",
        " 'EEA_Policy_Zip_Code_first_two_23',\n",
        " 'EEA_Policy_Zip_Code_first_two_24',\n",
        " 'EEA_Policy_Zip_Code_first_two_25',\n",
        " 'EEA_Policy_Zip_Code_first_two_27',\n",
        " 'EEA_Policy_Zip_Code_first_two_29',\n",
        " 'EEA_Policy_Zip_Code_first_two_31',\n",
        " 'EEA_Policy_Zip_Code_first_two_32',\n",
        " 'EEA_Policy_Zip_Code_first_two_33',\n",
        " 'EEA_Policy_Zip_Code_first_two_34',\n",
        " 'EEA_Policy_Zip_Code_first_two_35',\n",
        " 'EEA_Policy_Zip_Code_first_two_36',\n",
        " 'EEA_Policy_Zip_Code_first_two_39',\n",
        " 'EEA_Policy_Zip_Code_first_two_40',\n",
        " 'EEA_Policy_Zip_Code_first_two_41',\n",
        " 'EEA_Policy_Zip_Code_first_two_42',\n",
        " 'EEA_Policy_Zip_Code_first_two_43',\n",
        " 'EEA_Policy_Zip_Code_first_two_44',\n",
        " 'EEA_Policy_Zip_Code_first_two_45',\n",
        " 'EEA_Policy_Zip_Code_first_two_46',\n",
        " 'EEA_Policy_Zip_Code_first_two_47',\n",
        " 'EEA_Policy_Zip_Code_first_two_48',\n",
        " 'EEA_Policy_Zip_Code_first_two_49',\n",
        " 'EEA_Policy_Zip_Code_first_two_50',\n",
        " 'EEA_Policy_Zip_Code_first_two_51',\n",
        " 'EEA_Policy_Zip_Code_first_two_52',\n",
        " 'EEA_Policy_Zip_Code_first_two_53',\n",
        " 'EEA_Policy_Zip_Code_first_two_54',\n",
        " 'EEA_Policy_Zip_Code_first_two_57',\n",
        " 'EEA_Policy_Zip_Code_first_two_58',\n",
        " 'EEA_Policy_Zip_Code_first_two_59',\n",
        " 'EEA_Policy_Zip_Code_first_two_61',\n",
        " 'EEA_Policy_Zip_Code_first_two_62',\n",
        " 'EEA_Policy_Zip_Code_first_two_65',\n",
        " 'EEA_Policy_Zip_Code_first_two_67',\n",
        " 'EEA_Policy_Zip_Code_first_two_69',\n",
        " 'EEA_Policy_Zip_Code_first_two_71',\n",
        " 'EEA_Policy_Zip_Code_first_two_72',\n",
        " 'EEA_Policy_Zip_Code_first_two_73',\n",
        " 'EEA_Policy_Zip_Code_first_two_74',\n",
        " 'EEA_Policy_Zip_Code_first_two_77',\n",
        " 'EEA_Policy_Zip_Code_first_two_78',\n",
        " 'EEA_Policy_Zip_Code_first_two_79',\n",
        " 'EEA_Policy_Zip_Code_first_two_80',\n",
        " 'EEA_Policy_Zip_Code_first_two_81',\n",
        " 'EEA_Policy_Zip_Code_first_two_82',\n",
        " 'EEA_Policy_Zip_Code_first_two_83',\n",
        " 'EEA_Policy_Zip_Code_first_two_84',\n",
        " 'EEA_Policy_Zip_Code_first_two_85',\n",
        " 'EEA_Policy_Zip_Code_first_two_86',\n",
        " 'EEA_Policy_Zip_Code_first_two_87',\n",
        " 'EEA_Policy_Zip_Code_first_two_88',\n",
        " 'EEA_Policy_Zip_Code_first_two_89',\n",
        " 'EEA_Policy_Zip_Code_first_two_90',\n",
        " 'EEA_Policy_Zip_Code_first_two_92',\n",
        " 'EEA_Policy_Zip_Code_first_two_94',\n",
        " 'EEA_Policy_Zip_Code_first_two_95',\n",
        " 'EEA_Policy_Zip_Code_first_two_97',\n",
        " 'EEA_Policy_Zip_Code_first_two_98',\n",
        " 'EEA_Policy_Zip_Code_first_two_99',\n",
        " 'EEA_Policy_Zip_Code_first_1',\n",
        " 'EEA_Policy_Zip_Code_first_2',\n",
        " 'EEA_Policy_Zip_Code_first_3',\n",
        " 'EEA_Policy_Zip_Code_first_4',\n",
        " 'EEA_Policy_Zip_Code_first_5',\n",
        " 'EEA_Policy_Zip_Code_first_6',\n",
        " 'EEA_Policy_Zip_Code_first_7',\n",
        " 'EEA_Policy_Zip_Code_first_8',\n",
        " 'EEA_Policy_Zip_Code_first_9',\n",
        " 'EEA_Policy_Tenure',\n",
        " 'EEA_Policy_Tenure_0-10',\n",
        " 'EEA_Policy_Tenure_10-20',\n",
        " 'EEA_Policy_Tenure_20-30',\n",
        " 'EEA_Policy_Tenure_30-40',\n",
        " 'EEA_Policy_Tenure_40-50',\n",
        " 'EEA_Policy_Tenure_50-60',\n",
        " 'EEA_Agency_Type_Hybrid',\n",
        " 'EEA_Agency_Type_Non-standard',\n",
        " 'EEA_Agency_Type_Preferred',\n",
        " 'EEA_Agency_Type_Standard',\n",
        " 'EEA_Packaged_Policy_Indicator_N',\n",
        " 'EEA_Packaged_Policy_Indicator_Y',\n",
        " 'EEA_Full_Coverage_Indicator_N',\n",
        " 'EEA_Full_Coverage_Indicator_Y',\n",
        " 'EEA_Prior_Bodily_Injury_Limit_100-200',\n",
        " 'EEA_Prior_Bodily_Injury_Limit_100-400',\n",
        " 'EEA_Prior_Bodily_Injury_Limit_20-50',\n",
        " 'EEA_Prior_Bodily_Injury_Limit_200-400',\n",
        " 'EEA_Prior_Bodily_Injury_Limit_300-300',\n",
        " 'EEA_Prior_Bodily_Injury_Limit_40-100 ',\n",
        " 'EEA_Prior_Bodily_Injury_Limit_75-300',\n",
        " 'EEA_Prior_Bodily_Injury_Limit_750-750',\n",
        " 'SYS_Renewed_N',\n",
        " 'SYS_Renewed_Y',\n",
        " 'SYS_New_Business_N',\n",
        " 'SYS_New_Business_Y',\n",
        " 'Annual_Premium',\n",
        " 'Annual_Premium_0-1000',\n",
        " 'Annual_Premium_1000-2000',\n",
        " 'Annual_Premium_2000-3000',\n",
        " 'Annual_Premium_3000-4000'\n",
        "]]\n"
      ],
      "execution_count": 0,
      "outputs": []
    },
    {
      "cell_type": "markdown",
      "metadata": {
        "colab_type": "text",
        "id": "FqjsjpTguA__"
      },
      "source": [
        "Divide into portfolios."
      ]
    },
    {
      "cell_type": "code",
      "metadata": {
        "colab_type": "code",
        "id": "4BS9ia1Nt_5Q",
        "colab": {}
      },
      "source": [
        "# val = encod_test['Portfolio'][0]\n",
        "# list_of_dataframes = []\n",
        "# portfolio=pd.DataFrame()\n",
        "# for i in range(len(encod_test)):\n",
        "#     if encod_test['Portfolio'][i] == val:\n",
        "#         portfolio.append(encod_test.iloc[[i]])\n",
        "#     else:\n",
        "#         val = encod_test['Portfolio'][i]\n",
        "#         list_of_dataframes.append(portfolio)\n",
        "#         portfolio=pd.DataFrame()\n",
        "#         portfolio.append(encod_test.iloc[[i]])\n",
        "# list_of_dataframes.append(portfolio)"
      ],
      "execution_count": 0,
      "outputs": []
    },
    {
      "cell_type": "markdown",
      "metadata": {
        "colab_type": "text",
        "id": "8qmk5zE_uXRf"
      },
      "source": [
        "Helper functions to summarize the portfolios."
      ]
    },
    {
      "cell_type": "code",
      "metadata": {
        "colab_type": "code",
        "id": "hPAYzMdGqdVD",
        "colab": {}
      },
      "source": [
        "# #For finding sum\n",
        "# def portfolio_sum(portfolio,column_name):\n",
        "#   sum=0\n",
        "#   for record in portfolio[column_name]:\n",
        "#     if  (not np.isnan(record)) and record !=-1:\n",
        "#       sum+=record\n",
        "#   # print(sum)\n",
        "#   return sum\n",
        "  \n",
        "# def summarize_portfolio(portfolio):\n",
        "#   new_port=pd.DataFrame()\n",
        "#   #For finding percentage\n",
        "#   for record in portfolio:\n",
        "#     new_port[record]=new_port.apply(lambda _: '', axis=1)\n",
        "#     if set([0,1]).issubset(set(portfolio[record].value_counts(normalize=True).keys())) and len(portfolio[record].value_counts(normalize=True))==2:\n",
        "#         new_port.at[0,record]=round(portfolio[record].value_counts(normalize=True)[1]*100,2)\n",
        "#     if (portfolio[record]==0).all():\n",
        "#         new_port.at[0,record]=0\n",
        "#     if (portfolio[record]==1).all():\n",
        "#         new_port.at[0,record]=1\n",
        "#   #For finding mean and median\n",
        "#   new_port['Vehicle_Make_Age']=portfolio['Vehicle_Make_Age'].mean()\n",
        "#   new_port['Vehicle_Make_Age_Median']=portfolio['Vehicle_Make_Age'].median()\n",
        "#   new_port['Driver_Minimum_Age']=portfolio['Driver_Minimum_Age'].mean()\n",
        "#   new_port['Driver_Minimum_Age_Median']=portfolio['Driver_Minimum_Age'].median()\n",
        "#   new_port['Driver_Maximum_Age']=portfolio['Driver_Maximum_Age'].mean()\n",
        "#   new_port['Driver_Maximum_Age_Median']=portfolio['Driver_Maximum_Age'].median()\n",
        "#   #For finding sum\n",
        "#   new_port['Vehicle_New_Cost_Amount']=portfolio_sum(portfolio,'Vehicle_New_Cost_Amount')\n",
        "#   new_port['Vehicle_Number_Of_Drivers_Assigned']=portfolio_sum(portfolio,'Vehicle_Number_Of_Drivers_Assigned')\n",
        "#   new_port['Vehicle_Miles_To_Work']=portfolio_sum(portfolio,'Vehicle_Miles_To_Work')\n",
        "#   new_port['Vehicle_Annual_Miles']=portfolio_sum(portfolio,'Vehicle_Annual_Miles')\n",
        "#   new_port['Vehicle_Comprehensive_Coverage_Limit']=portfolio_sum(portfolio,'Vehicle_Comprehensive_Coverage_Limit')\n",
        "#   new_port['Driver_Total']=portfolio_sum(portfolio,'Driver_Total')\n",
        "#   new_port['Driver_Total_Male']=portfolio_sum(portfolio,'Driver_Total_Male')\n",
        "#   new_port['Driver_Total_Female']=portfolio_sum(portfolio,'Driver_Total_Female')\n",
        "#   new_port['Driver_Total_Single']=portfolio_sum(portfolio,'Driver_Total_Single')\n",
        "#   new_port['Driver_Total_Married']=portfolio_sum(portfolio,'Driver_Total_Married')\n",
        "#   new_port['Driver_Total_Related_To_Insured_Self']=portfolio_sum(portfolio,'Driver_Total_Related_To_Insured_Self')\n",
        "#   new_port['Driver_Total_Related_To_Insured_Spouse']=portfolio_sum(portfolio,'Driver_Total_Related_To_Insured_Spouse')\n",
        "#   new_port['Driver_Total_Related_To_Insured_Child']=portfolio_sum(portfolio,'Driver_Total_Related_To_Insured_Child')\n",
        "#   new_port['Driver_Total_Licensed_In_State']=portfolio_sum(portfolio,'Driver_Total_Licensed_In_State')\n",
        "#   new_port['Driver_Total_Teenager_Age_15_19']=portfolio_sum(portfolio,'Driver_Total_Teenager_Age_15_19')\n",
        "#   new_port['Driver_Total_College_Ages_20_23']=portfolio_sum(portfolio,'Driver_Total_College_Ages_20_23')\n",
        "#   new_port['Driver_Total_Young_Adult_Ages_24_29']=portfolio_sum(portfolio,'Driver_Total_Young_Adult_Ages_24_29')\n",
        "#   new_port['Driver_Total_Low_Middle_Adult_Ages_30_39']=portfolio_sum(portfolio,'Driver_Total_Low_Middle_Adult_Ages_30_39')\n",
        "#   new_port['Driver_Total_Middle_Adult_Ages_40_49']=portfolio_sum(portfolio,'Driver_Total_Middle_Adult_Ages_40_49')\n",
        "#   new_port['Driver_Total_Adult_Ages_50_64']=portfolio_sum(portfolio,'Driver_Total_Adult_Ages_50_64')\n",
        "#   new_port['Driver_Total_Senior_Ages_65_69']=portfolio_sum(portfolio,'Driver_Total_Senior_Ages_65_69')\n",
        "#   new_port['Driver_Total_Upper_Senior_Ages_70_plus']=portfolio_sum(portfolio,'Driver_Total_Upper_Senior_Ages_70_plus')\n",
        "#   new_port['EEA_Policy_Tenure']=portfolio_sum(portfolio,'EEA_Policy_Tenure')\n",
        "#   new_port['Annual_Premium']=portfolio_sum(portfolio,'Annual_Premium')\n",
        "#   new_port['Loss_Amount']=portfolio_sum(portfolio,'Loss_Amount')\n",
        "#   return new_port"
      ],
      "execution_count": 0,
      "outputs": []
    },
    {
      "cell_type": "markdown",
      "metadata": {
        "colab_type": "text",
        "id": "fWsjBaf7ufAg"
      },
      "source": [
        "Summarize the portfolios."
      ]
    },
    {
      "cell_type": "code",
      "metadata": {
        "colab_type": "code",
        "id": "WQtWHHPEqOWP",
        "colab": {}
      },
      "source": [
        "# summarized_dataframes=pd.DataFrame()\n",
        "# i=0\n",
        "# for dataframe in list_of_dataframes:\n",
        "  \n",
        "#   new=pd.DataFrame()\n",
        "#   print(i)\n",
        "#   new=summarize_portfolio(dataframe)\n",
        "#   new['Portfolio']=\"Portfolio_\"+str(i)\n",
        "#   new['Loss_Ratio'] = new['Loss_Amount']/new['Annual_Premium']\n",
        "#   new['ln_LR'] = np.log(new['Loss_Ratio'])\n",
        "#   summarized_dataframes=summarized_dataframes.append(new)\n",
        "#   i+=1"
      ],
      "execution_count": 0,
      "outputs": []
    },
    {
      "cell_type": "markdown",
      "metadata": {
        "colab_type": "text",
        "id": "HAjUpG0DunXu"
      },
      "source": [
        "Separate the target variable and rest of the data."
      ]
    },
    {
      "cell_type": "code",
      "metadata": {
        "colab_type": "code",
        "id": "QMhEptBnpzYl",
        "colab": {}
      },
      "source": [
        "# target_tst = summarized_dataframes_wo_portfolio['ln_LR']\n",
        "# summarized_dataframes_wo_portfolio = summarized_dataframes.drop(['Portfolio'], axis = 1)\n"
      ],
      "execution_count": 0,
      "outputs": []
    },
    {
      "cell_type": "markdown",
      "metadata": {
        "colab_type": "text",
        "id": "XmYqaJNMMnnO"
      },
      "source": [
        "Scale the independent variables"
      ]
    },
    {
      "cell_type": "code",
      "metadata": {
        "colab_type": "code",
        "id": "YiBgekT5MuFi",
        "colab": {}
      },
      "source": [
        "# #scale =StandardScaler()\n",
        "# #summarized_dataframes_scaled = scale.fit_transform(summarized_dataframes_wo_portfolio)"
      ],
      "execution_count": 0,
      "outputs": []
    },
    {
      "cell_type": "code",
      "metadata": {
        "colab_type": "code",
        "id": "kdb6Pc3qp_lC",
        "colab": {}
      },
      "source": [
        "# #Dropping a set of variables\n",
        "# def dropVariables(df,drop)\n",
        "# df_update = df.drop(array, axis=1)\n",
        "# return df_update\n",
        "\n",
        "# drop_org = ['Policy_Company_Standard ','Policy_Installment_Term_6','Policy_Billing_Code_Direct Billed to Insured','Policy_Method_Of_Payment_Pre-paid','Policy_Reinstatement_Fee_Indicator_N','Vehicle_Passive_Restraint_N','Vehicle_Med_Pay_Limit_-1','Vehicle_Bodily_Injury_Limit_25-100_new','Vehicle_Bodily_Injury_Limit_100-500_new','Vehicle_Physical_Damage_Limit_-1','Vehicle_Comprehensive_Coverage_Indicator_N','Vehicle_Collision_Coverage_Indicator_N','Vehicle_Collision_Coverage_Deductible_-1','Vehicle_Youthful_Driver_Indicator_N','Vehicle_Youthful_Driver_Training_Code_Not Applicable                 ','Vehicle_Youthful_Good_Student_Code_Not Eligible for Good Student Credit','Vehicle_Safe_Driver_Discount_Indicator_Y','EEA_Liability_Coverage_Only_Indicator_Y','EEA_Multi_Auto_Policies_Indicator_Y','EEA_Packaged_Policy_Indicator_N','EEA_Full_Coverage_Indicator_N','SYS_Renewed_Y','SYS_New_Business_N','Claim_Count','Loss_Amount','Vehicle_Make_Age_Median','Driver_Minimum_Age_Median','Driver_Maximum_Age_Median','Loss_Ratio']\n",
        "# drop_yllow = ['Vehicle_Days_Per_Week_Driven_-1','Vehicle_Days_Per_Week_Driven_0','Vehicle_Days_Per_Week_Driven_1','Vehicle_Days_Per_Week_Driven_2','Vehicle_Days_Per_Week_Driven_3','Vehicle_Days_Per_Week_Driven_4','Vehicle_Days_Per_Week_Driven_5','Vehicle_Days_Per_Week_Driven_6','Vehicle_Days_Per_Week_Driven_7','Vehicle_Annual_Miles','Driver_Total','Driver_Total_Male','Driver_Total_Female','Driver_Total_Single','Driver_Total_Married','Driver_Total_Related_To_Insured_Self','Driver_Total_Related_To_Insured_Spouse','Driver_Total_Related_To_Insured_Child','Driver_Total_Licensed_In_State','EEA_Policy_Zip_Code_3_423.0','EEA_Policy_Zip_Code_3_424.0','EEA_Policy_Zip_Code_3_425.0','EEA_Policy_Zip_Code_3_427.0','EEA_Policy_Zip_Code_3_428.0','EEA_Policy_Zip_Code_3_429.0','EEA_Policy_Zip_Code_3_430.0','EEA_Policy_Zip_Code_3_431.0','EEA_Policy_Zip_Code_3_432.0','EEA_Policy_Zip_Code_3_433.0','EEA_Policy_Zip_Code_3_436.0','EEA_Policy_Zip_Code_3_437.0','EEA_Policy_Zip_Code_3_438.0','EEA_Policy_Zip_Code_3_441.0','EEA_Policy_Zip_Code_3_442.0','EEA_Policy_Zip_Code_3_521.0','EEA_Policy_Zip_Code_3_522.0','EEA_Policy_Zip_Code_first_two_42','EEA_Policy_Zip_Code_first_two_43','EEA_Policy_Zip_Code_first_two_44','EEA_Policy_Zip_Code_first_two_52','EEA_Policy_Zip_Code_first_1','EEA_Policy_Zip_Code_first_2','EEA_Policy_Zip_Code_first_3','EEA_Policy_Zip_Code_first_4','EEA_Policy_Zip_Code_first_5','EEA_Policy_Zip_Code_first_6','EEA_Policy_Zip_Code_first_7','EEA_Policy_Zip_Code_first_8','EEA_Policy_Zip_Code_first_9']\n",
        "\n",
        "\n",
        "# summarized_dataframes_wo_portfolio_org = dropVariables(summarized_dataframes_wo_portfolio, drop_org)\n",
        "# summarized_dataframes_wo_portfolio_yllow = dropVariables(summarized_dataframes_wo_portfolio_org, drop_yllow)\n",
        "\n",
        "# #Visualize using PCA\n",
        "# scaled_data_org = preprocessing.scale(summarized_dataframes_wo_portfolio_org)\n",
        "# pca = PCA(n_components=10)\n",
        "# pca.fit(scaled_data_org)\n",
        "# pca_data = pca.transform(scaled_data_org)\n",
        "\n",
        "# per_var = np.round(pca.explained_variance_ratio_*100, decimals=1)\n",
        "# labels = ['PC' + str(x) for x in range(1, len(per_var)+1)]\n",
        "\n",
        "# plt.bar(x=range(1,len(per_var)+1), height=per_var, tick_label=labels)\n",
        "# plt.ylabel('Percentage of Explained Variance')\n",
        "# plt.xlabel('Principal Component')\n",
        "# plt.title('Scree Plot')\n",
        "# plt.show()\n",
        "\n",
        "# #Linear Model for First set(orange)\n",
        "# pca_Org = pca_data[:,0:4]\n",
        "\n",
        "# l2_cv = RidgeCV(alphas = np.linspace(0.1,1000,num=100), cv=None, store_cv_values=True)\n",
        "# l2_cv.fit(pca_Org, target_tst)\n",
        "\n",
        "# pred_train_l2=l2_cv.predict(pca_Org)\n",
        "# mae_train_l2 = mean_absolute_error(target_tst, pred_train_l2)\n",
        "# print(mae_train_l2)\n",
        "\n",
        "# #Expected Mean Absolute Error\n",
        "# cv_values_sqrt = np.sqrt(l2_cv.cv_values_)\n",
        "\n",
        "# l2_pred_mean = cv_values_sqrt.mean(axis=0)\n",
        "# l2_pred_mae = min(l2_pred_mean)\n",
        "# print(l2_pred_mae)"
      ],
      "execution_count": 0,
      "outputs": []
    },
    {
      "cell_type": "code",
      "metadata": {
        "colab_type": "code",
        "id": "6j7ZrxQPqrTN",
        "colab": {}
      },
      "source": [
        ""
      ],
      "execution_count": 0,
      "outputs": []
    },
    {
      "cell_type": "code",
      "metadata": {
        "colab_type": "code",
        "id": "L2w5eIeHqrbk",
        "colab": {}
      },
      "source": [
        ""
      ],
      "execution_count": 0,
      "outputs": []
    },
    {
      "cell_type": "code",
      "metadata": {
        "colab_type": "code",
        "id": "0En76OoHqrYL",
        "colab": {}
      },
      "source": [
        ""
      ],
      "execution_count": 0,
      "outputs": []
    },
    {
      "cell_type": "code",
      "metadata": {
        "colab_type": "code",
        "id": "KVVATiZ1qrWg",
        "colab": {}
      },
      "source": [
        ""
      ],
      "execution_count": 0,
      "outputs": []
    },
    {
      "cell_type": "markdown",
      "metadata": {
        "colab_type": "text",
        "id": "tA6e0JIIqnF0"
      },
      "source": [
        "Rough work"
      ]
    },
    {
      "cell_type": "code",
      "metadata": {
        "colab_type": "code",
        "id": "XQFeaXGeyPuN",
        "outputId": "b5fb87ac-7682-4998-a3b0-eae17f12b1cf",
        "colab": {
          "base_uri": "https://localhost:8080/",
          "height": 35
        }
      },
      "source": [
        "encod_test.shape"
      ],
      "execution_count": 0,
      "outputs": [
        {
          "output_type": "execute_result",
          "data": {
            "text/plain": [
              "(699474, 503)"
            ]
          },
          "metadata": {
            "tags": []
          },
          "execution_count": 19
        }
      ]
    },
    {
      "cell_type": "code",
      "metadata": {
        "colab_type": "code",
        "id": "z0iUn6Szln3J",
        "outputId": "d1a9002a-c0a6-433b-f6e7-6ac335034a34",
        "colab": {
          "base_uri": "https://localhost:8080/",
          "height": 35
        }
      },
      "source": [
        "encod_test['Portfolio'][1001]"
      ],
      "execution_count": 0,
      "outputs": [
        {
          "output_type": "execute_result",
          "data": {
            "text/plain": [
              "'test_portfolio_2.csv'"
            ]
          },
          "metadata": {
            "tags": []
          },
          "execution_count": 35
        }
      ]
    },
    {
      "cell_type": "code",
      "metadata": {
        "colab_type": "code",
        "id": "UOtJWQK6mDVd",
        "outputId": "9b1c772f-8a6b-4c51-cbc1-12ef5b3c5323",
        "colab": {
          "base_uri": "https://localhost:8080/",
          "height": 35
        }
      },
      "source": [
        "# i=0\n",
        "# for record in encod_test:\n",
        "#   i+=1\n",
        "#   print(record)\n",
        "#   if i==2:\n",
        "#     break\n",
        "i=0\n",
        "encod_test['Portfolio'][1004]"
      ],
      "execution_count": 0,
      "outputs": [
        {
          "output_type": "execute_result",
          "data": {
            "text/plain": [
              "'test_portfolio_2.csv'"
            ]
          },
          "metadata": {
            "tags": []
          },
          "execution_count": 43
        }
      ]
    }
  ]
}